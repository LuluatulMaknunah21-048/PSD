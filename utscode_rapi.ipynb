{
  "nbformat": 4,
  "nbformat_minor": 0,
  "metadata": {
    "colab": {
      "provenance": []
    },
    "kernelspec": {
      "name": "python3",
      "display_name": "Python 3"
    },
    "language_info": {
      "name": "python"
    }
  },
  "cells": [
    {
      "cell_type": "markdown",
      "source": [
        "# **KLASIFIKASI EMOSI menggunakan metode K-Nearest Neighbor**"
      ],
      "metadata": {
        "id": "_la9gboX8Cr-"
      }
    },
    {
      "cell_type": "markdown",
      "source": [
        "# **TUJUAN ANALISIS**"
      ],
      "metadata": {
        "id": "LaJghrN1VE6t"
      }
    },
    {
      "cell_type": "markdown",
      "source": [
        "1. Klasifikasi Emosi berdasarkan rekaman suara"
      ],
      "metadata": {
        "id": "-ms8KdJ2VInD"
      }
    },
    {
      "cell_type": "markdown",
      "source": [
        "# **Deskripsi Data**"
      ],
      "metadata": {
        "id": "xPXpdXnXViSW"
      }
    },
    {
      "cell_type": "markdown",
      "source": [
        "dataset diambil dari : https://www.kaggle.com/datasets/ejlok1/toronto-emotional-speech-set-tess?resource=download\n",
        "Dataset audio ini akan di ektraksi menjadi beberapa fitur numeric ZCR dan RMSE.\n",
        "Dataset ini berisi serangkaian 200 kata target yang diucapkan dalam frasa pembawa \"Katakan kata _\" oleh dua aktris (berusia 26 dan 64 tahun), dan rekaman dibuat untuk setiap kata dengan menggambarkan tujuh emosi berbeda (marah, jijik, takut, bahagia, kaget menyenangkan, sedih, dan netral). Totalnya terdapat 2800 titik data (file audio) dalam dataset ini.\n",
        "\n",
        "Penyusunan dataset ini dilakukan dengan cara bahwa setiap dari dua aktris perempuan dan emosi yang mereka tunjukkan terkandung dalam folder tersendiri. Di dalamnya, terdapat file audio untuk semua 200 kata target. Format file audio ini adalah format WAV.\n",
        "\n",
        "Dengan kata lain, dataset ini memberikan akses ke rekaman suara dari dua aktris perempuan yang berbeda usia, masing-masing mengucapkan 200 kata target dalam tujuh berbagai emosi. Setiap kombinasi kata dan emosi memiliki rekaman suara sendiri-sendiri, dan semuanya tersusun dengan baik dalam struktur folder yang jelas. Format file audio yang digunakan adalah WAV.\n",
        "\n"
      ],
      "metadata": {
        "id": "LDCDZoHI3w-d"
      }
    },
    {
      "cell_type": "markdown",
      "source": [
        "### **Menghitung statistik sinyal yang akan dijadikan fitur**"
      ],
      "metadata": {
        "id": "EeS0CIQ3jZ4o"
      }
    },
    {
      "cell_type": "markdown",
      "source": [
        "1. **Zero Crossing Rate (ZCR):** <br>\n",
        "   Zero Crossing Rate (ZCR) adalah metrik yang mengukur seberapa sering sinyal audio melintasi nilai nol per detik. Ini memberikan wawasan tentang perubahan arah atau fluktuasi dalam gelombang suara. Komponen ZCR mencakup: <br>\n",
        "   - *zcr_mean:* Nilai rata-rata ZCR, mencerminkan tingkat perubahan rata-rata dalam sinyal. <br>\n",
        "   - *zcr_median:* Nilai median ZCR, merupakan nilai tengah dalam distribusi ZCR. <br>\n",
        "   - *zcr_std_dev:* Deviasi standar dari ZCR, mengukur sejauh mana nilai ZCR tersebar dari nilai rata-rata. <br>\n",
        "   - *zcr_kurtosis:* Kurtosis dari distribusi ZCR, memberikan informasi tentang kekontrasan antara ekor dan puncak distribusi. <br>\n",
        "   - *zcr_skew:* Skewness dari distribusi ZCR, mengindikasikan asimetri distribusi ZCR. <br>\n",
        "2. **Root Mean Square Error (RMSE):** <br>\n",
        "   Root Mean Square Error (RMSE) adalah metrik evaluasi yang mengukur rata-rata perbedaan antara nilai aktual dan nilai yang diprediksi, dalam konteks ini, terkait dengan amplitudo sinyal audio. Komponen RMSE melibatkan: <br>\n",
        "   - *rmse:* Nilai RMSE dari sinyal, memberikan ukuran kesalahan total antara nilai aktual dan nilai prediksi. <br>\n",
        "   - *rmse_median:* Nilai median dari RMSE, menunjukkan nilai tengah dalam distribusi RMSE. <br>\n",
        "   - *rmse_std_dev:* Deviasi standar dari RMSE, mengukur sebaran nilai RMSE dari nilai rata-rata. <br>\n",
        "   - *rmse_kurtosis:* Kurtosis dari distribusi RMSE, memberikan informasi tentang bentuk dan karakteristik distribusi kesalahan. <br>\n",
        "   - *rmse_skew:* Skewness dari distribusi RMSE, mengindikasikan asimetri distribusi RMSE. <br>\n",
        "\n",
        "   **RUMUS :**<br>\n",
        "   <br>\n",
        "   $\\text{{Mean}} = \\frac{1}{n} \\sum_{i=1}^{n} y_i$ <br>\n",
        "   <br>\n",
        "  $\\text{{Median}} = \\begin{cases}\n",
        "      y_{(\\frac{n}{2})} & \\text{{if }} n \\text{{ is odd}} \\\\\n",
        "      \\frac{1}{2} (y_{(\\frac{n}{2})} + y_{(\\frac{n}{2} + 1)}) & \\text{{if }} n \\text{{ is even}}\n",
        "   \\end{cases}$ <br>\n",
        "<br>\n",
        "  $\\text{{Standard Deviasi}} = \\sqrt{\\frac{1}{n} \\sum_{i=1}^{n} (y_i - \\text{{Mean}})^2}$ <br>\n",
        "<br>\n",
        "  $\\text{{Kurtosis}} = \\frac{\\frac{1}{n} \\sum_{i=1}^{n} (y_i - \\text{{Mean}})^4}{\\left(\\frac{1}{n} \\sum_{i=1}^{n} (y_i - \\text{{Mean}})^2\\right)^2} - 3$ <br>\n",
        "<br>\n",
        "  $\\text{{Skewness}} = \\frac{\\frac{1}{n} \\sum_{i=1}^{n} (y_i - \\text{{Mean}})^3}{\\left(\\frac{1}{n} \\sum_{i=1}^{n} (y_i - \\text{{Mean}})^2\\right)^{3/2}}$ <br>\n",
        "<br>"
      ],
      "metadata": {
        "id": "kKABhZn-i84g"
      }
    },
    {
      "cell_type": "markdown",
      "source": [
        "# **PRE-PROCESSING**"
      ],
      "metadata": {
        "id": "D-GfEFpe2VDp"
      }
    },
    {
      "cell_type": "markdown",
      "source": [
        "sebelum melakukan analisis data kita akan melakukan ekstraksi audio menjadi beberapa fitur numerik dan akan dilakukan standarisasi data dalam rentang 0-1 hal ini di lakukan di pre-processing"
      ],
      "metadata": {
        "id": "1WPSmxaxV4N9"
      }
    },
    {
      "cell_type": "markdown",
      "source": [
        "## **EKSTRAKSI AUDIO**"
      ],
      "metadata": {
        "id": "WCepFR0cVwzZ"
      }
    },
    {
      "cell_type": "code",
      "execution_count": null,
      "metadata": {
        "colab": {
          "base_uri": "https://localhost:8080/"
        },
        "id": "LSJU13_szTDP",
        "outputId": "c179c236-226d-45ca-bc2f-620f3a6ab569"
      },
      "outputs": [
        {
          "output_type": "stream",
          "name": "stdout",
          "text": [
            "Requirement already satisfied: librosa in /usr/local/lib/python3.10/dist-packages (0.10.1)\n",
            "Requirement already satisfied: audioread>=2.1.9 in /usr/local/lib/python3.10/dist-packages (from librosa) (3.0.1)\n",
            "Requirement already satisfied: numpy!=1.22.0,!=1.22.1,!=1.22.2,>=1.20.3 in /usr/local/lib/python3.10/dist-packages (from librosa) (1.23.5)\n",
            "Requirement already satisfied: scipy>=1.2.0 in /usr/local/lib/python3.10/dist-packages (from librosa) (1.11.3)\n",
            "Requirement already satisfied: scikit-learn>=0.20.0 in /usr/local/lib/python3.10/dist-packages (from librosa) (1.2.2)\n",
            "Requirement already satisfied: joblib>=0.14 in /usr/local/lib/python3.10/dist-packages (from librosa) (1.3.2)\n",
            "Requirement already satisfied: decorator>=4.3.0 in /usr/local/lib/python3.10/dist-packages (from librosa) (4.4.2)\n",
            "Requirement already satisfied: numba>=0.51.0 in /usr/local/lib/python3.10/dist-packages (from librosa) (0.58.1)\n",
            "Requirement already satisfied: soundfile>=0.12.1 in /usr/local/lib/python3.10/dist-packages (from librosa) (0.12.1)\n",
            "Requirement already satisfied: pooch>=1.0 in /usr/local/lib/python3.10/dist-packages (from librosa) (1.8.0)\n",
            "Requirement already satisfied: soxr>=0.3.2 in /usr/local/lib/python3.10/dist-packages (from librosa) (0.3.7)\n",
            "Requirement already satisfied: typing-extensions>=4.1.1 in /usr/local/lib/python3.10/dist-packages (from librosa) (4.5.0)\n",
            "Requirement already satisfied: lazy-loader>=0.1 in /usr/local/lib/python3.10/dist-packages (from librosa) (0.3)\n",
            "Requirement already satisfied: msgpack>=1.0 in /usr/local/lib/python3.10/dist-packages (from librosa) (1.0.7)\n",
            "Requirement already satisfied: llvmlite<0.42,>=0.41.0dev0 in /usr/local/lib/python3.10/dist-packages (from numba>=0.51.0->librosa) (0.41.1)\n",
            "Requirement already satisfied: platformdirs>=2.5.0 in /usr/local/lib/python3.10/dist-packages (from pooch>=1.0->librosa) (4.0.0)\n",
            "Requirement already satisfied: packaging>=20.0 in /usr/local/lib/python3.10/dist-packages (from pooch>=1.0->librosa) (23.2)\n",
            "Requirement already satisfied: requests>=2.19.0 in /usr/local/lib/python3.10/dist-packages (from pooch>=1.0->librosa) (2.31.0)\n",
            "Requirement already satisfied: threadpoolctl>=2.0.0 in /usr/local/lib/python3.10/dist-packages (from scikit-learn>=0.20.0->librosa) (3.2.0)\n",
            "Requirement already satisfied: cffi>=1.0 in /usr/local/lib/python3.10/dist-packages (from soundfile>=0.12.1->librosa) (1.16.0)\n",
            "Requirement already satisfied: pycparser in /usr/local/lib/python3.10/dist-packages (from cffi>=1.0->soundfile>=0.12.1->librosa) (2.21)\n",
            "Requirement already satisfied: charset-normalizer<4,>=2 in /usr/local/lib/python3.10/dist-packages (from requests>=2.19.0->pooch>=1.0->librosa) (3.3.2)\n",
            "Requirement already satisfied: idna<4,>=2.5 in /usr/local/lib/python3.10/dist-packages (from requests>=2.19.0->pooch>=1.0->librosa) (3.4)\n",
            "Requirement already satisfied: urllib3<3,>=1.21.1 in /usr/local/lib/python3.10/dist-packages (from requests>=2.19.0->pooch>=1.0->librosa) (2.0.7)\n",
            "Requirement already satisfied: certifi>=2017.4.17 in /usr/local/lib/python3.10/dist-packages (from requests>=2.19.0->pooch>=1.0->librosa) (2023.7.22)\n"
          ]
        }
      ],
      "source": [
        "pip install librosa"
      ]
    },
    {
      "cell_type": "markdown",
      "source": [
        "**Menghubungkan ke google drive**"
      ],
      "metadata": {
        "id": "X_xsnWBG2cNE"
      }
    },
    {
      "cell_type": "code",
      "source": [
        "# Import library drive dari modul google.colab untuk mengakses Google Drive\n",
        "from google.colab import drive\n",
        "# Mount Google Drive ke dalam direktori /content/drive di Google Colab\n",
        "drive.mount('/content/drive')\n"
      ],
      "metadata": {
        "colab": {
          "base_uri": "https://localhost:8080/"
        },
        "id": "rQG4UZUizjpI",
        "outputId": "f2a023f5-a3a2-4a58-c6b0-30924e607e0c"
      },
      "execution_count": null,
      "outputs": [
        {
          "output_type": "stream",
          "name": "stdout",
          "text": [
            "Drive already mounted at /content/drive; to attempt to forcibly remount, call drive.mount(\"/content/drive\", force_remount=True).\n"
          ]
        }
      ]
    },
    {
      "cell_type": "code",
      "source": [
        "%cd /content/drive/MyDrive/PSD/emosi"
      ],
      "metadata": {
        "colab": {
          "base_uri": "https://localhost:8080/"
        },
        "id": "16YY1MINzl1c",
        "outputId": "a2aca525-deca-4989-8fd2-6569e2a08424"
      },
      "execution_count": null,
      "outputs": [
        {
          "output_type": "stream",
          "name": "stdout",
          "text": [
            "/content/drive/MyDrive/PSD/emosi\n"
          ]
        }
      ]
    },
    {
      "cell_type": "code",
      "source": [
        "# Import library untuk berinteraksi dengan sistem operasi (OS)\n",
        "import os\n",
        "# Import pustaka librosa untuk analisis sinyal suara\n",
        "import librosa\n",
        "# Import pustaka numpy untuk manipulasi data numerik\n",
        "import numpy as np\n",
        "# Import pustaka pandas untuk analisis dan manipulasi data tabular\n",
        "import pandas as pd\n",
        "# Import beberapa fungsi statistik dari pustaka scipy\n",
        "from scipy.stats import skew, kurtosis, mode"
      ],
      "metadata": {
        "id": "odl693fSzoZ1"
      },
      "execution_count": null,
      "outputs": []
    },
    {
      "cell_type": "code",
      "source": [
        "#variael yang menyimpan list nama folder yang berisi dataset emosi\n",
        "folders=['YAF_sad','YAF_pleasant_surprised','YAF_neutral',\n",
        "         'YAF_happy','YAF_fear','YAF_disgust','YAF_angry',\n",
        "         'OAF_sad','OAF_pleasant_surprise','OAF_neutral',\n",
        "         'OAF_happy','OAF_fear','OAF_disgust',\n",
        "         'OAF_angry',\n",
        "         ]"
      ],
      "metadata": {
        "id": "JPN1Dgu10R7c"
      },
      "execution_count": null,
      "outputs": []
    },
    {
      "cell_type": "markdown",
      "source": [
        "**Ektraksi Audio menjadi fitur numerik**"
      ],
      "metadata": {
        "id": "k_ESBmjfsgzH"
      }
    },
    {
      "cell_type": "code",
      "source": [
        "def calculate_statistics(audio_path):\n",
        "    # Menggunakan librosa untuk memuat file audio\n",
        "    y, sr = librosa.load(audio_path)\n",
        "\n",
        "    # MENGHITUNG NILAI ZERO-CROSSING RATE (ZCR)\n",
        "    zcr_mean = np.mean(librosa.feature.zero_crossing_rate(y=y))\n",
        "    zcr_median = np.median(librosa.feature.zero_crossing_rate(y=y))\n",
        "    zcr_std_dev = np.std(librosa.feature.zero_crossing_rate(y=y))\n",
        "    zcr_kurtosis = kurtosis(librosa.feature.zero_crossing_rate(y=y)[0])\n",
        "    zcr_skew = skew(librosa.feature.zero_crossing_rate(y=y)[0])\n",
        "\n",
        "    # MENGHITUNG NILAI ROOT MEAN SQUARE ERROR (RMSE)\n",
        "    rmse = np.sum(y**2) / len(y)\n",
        "    rmse_median = np.median(y**2)\n",
        "    rmse_std_dev = np.std(y**2)\n",
        "    rmse_kurtosis = kurtosis(y**2)\n",
        "    rmse_skew = skew(y**2)\n",
        "\n",
        "    # return daftar nilai statistik\n",
        "    return [zcr_mean, zcr_median, zcr_std_dev, zcr_kurtosis, zcr_skew, rmse, rmse_median, rmse_std_dev, rmse_kurtosis, rmse_skew]"
      ],
      "metadata": {
        "id": "t5kQ4lVo0UbX"
      },
      "execution_count": null,
      "outputs": []
    },
    {
      "cell_type": "code",
      "source": [
        "features =[] #variabel yang akan digunakan untuk fitur"
      ],
      "metadata": {
        "id": "jWLl9kxB0X9r"
      },
      "execution_count": null,
      "outputs": []
    },
    {
      "cell_type": "code",
      "source": [
        "# Loop melalui setiap folder dalam daftar 'folders'\n",
        "for folder in folders:\n",
        "    # Membuat path lengkap untuk folder saat ini\n",
        "    folder_path = f'{folder}'\n",
        "\n",
        "    # Loop melalui setiap file dalam folder saat ini\n",
        "    for filename in os.listdir(folder_path):\n",
        "\n",
        "        # Memeriksa apakah file berakhir dengan ekstensi '.wav'\n",
        "        if filename.endswith('.wav'):\n",
        "\n",
        "            # Membuat path lengkap untuk file audio saat ini\n",
        "            audio_path = os.path.join(folder_path, filename)\n",
        "\n",
        "            # Menghitung statistik dari file audio dan menyimpannya dalam variabel 'statistics'\n",
        "            statistics = calculate_statistics(audio_path)\n",
        "\n",
        "            # Menambahkan label folder dan statistik audio ke dalam daftar fitur 'features'\n",
        "            features.append([folder] + statistics)"
      ],
      "metadata": {
        "id": "Ml6NylZw0aBq"
      },
      "execution_count": null,
      "outputs": []
    },
    {
      "cell_type": "code",
      "source": [
        "columns =  ['Label']+['ZCR Mean', 'ZCR Median', 'ZCR Std Dev', 'ZCR Kurtosis', 'ZCR Skew', 'RMSE', 'RMSE Median', 'RMSE Std Dev', 'RMSE Kurtosis', 'RMSE Skew']\n",
        "df = pd.DataFrame(features, columns=columns)"
      ],
      "metadata": {
        "id": "z5mgkq9P0gud"
      },
      "execution_count": null,
      "outputs": []
    },
    {
      "cell_type": "code",
      "source": [
        "# Menampilkan file CSV\n",
        "df"
      ],
      "metadata": {
        "colab": {
          "base_uri": "https://localhost:8080/",
          "height": 423
        },
        "id": "l0jB7mi51DB3",
        "outputId": "0f756a4d-4186-455a-ff8b-ff5476f2d9d2"
      },
      "execution_count": null,
      "outputs": [
        {
          "output_type": "execute_result",
          "data": {
            "text/plain": [
              "          Label  ZCR Mean  ZCR Median  ZCR Std Dev  ZCR Kurtosis  ZCR Skew  \\\n",
              "0       YAF_sad  0.128581    0.033203     0.225249      3.231511  2.213080   \n",
              "1       YAF_sad  0.118958    0.028320     0.195816      4.225416  2.337965   \n",
              "2       YAF_sad  0.124418    0.030762     0.203419      3.494584  2.197851   \n",
              "3       YAF_sad  0.105494    0.035156     0.194269      5.715395  2.682275   \n",
              "4       YAF_sad  0.138011    0.057129     0.193587      3.628069  2.167333   \n",
              "...         ...       ...         ...          ...           ...       ...   \n",
              "2801  OAF_angry  0.083810    0.052246     0.099268      4.521899  2.239367   \n",
              "2802  OAF_angry  0.115001    0.060059     0.118703      3.370580  2.012270   \n",
              "2803  OAF_angry  0.083991    0.051270     0.091742      7.208814  2.744011   \n",
              "2804  OAF_angry  0.085005    0.059082     0.090037      5.366187  2.422199   \n",
              "2805  OAF_angry  0.074580    0.048340     0.098578      7.797457  2.908089   \n",
              "\n",
              "          RMSE  RMSE Median  RMSE Std Dev  RMSE Kurtosis  RMSE Skew  \n",
              "0     0.001907     0.000391      0.004361      28.695116   4.718993  \n",
              "1     0.000546     0.000059      0.001320      37.525358   5.243677  \n",
              "2     0.000502     0.000045      0.001103      20.908828   4.065221  \n",
              "3     0.001279     0.000270      0.002408      15.520610   3.484518  \n",
              "4     0.001019     0.000084      0.002397      23.264337   4.194062  \n",
              "...        ...          ...           ...            ...        ...  \n",
              "2801  0.001529     0.000058      0.003707      21.352151   4.054795  \n",
              "2802  0.001743     0.000146      0.004667      41.713213   5.561090  \n",
              "2803  0.003030     0.000291      0.006712      21.150835   3.983283  \n",
              "2804  0.001496     0.000135      0.004290      31.532767   5.091522  \n",
              "2805  0.002085     0.000142      0.005027      26.139703   4.373508  \n",
              "\n",
              "[2806 rows x 11 columns]"
            ],
            "text/html": [
              "\n",
              "  <div id=\"df-265e47c2-d36c-4794-9cb0-6bdff5312ae2\" class=\"colab-df-container\">\n",
              "    <div>\n",
              "<style scoped>\n",
              "    .dataframe tbody tr th:only-of-type {\n",
              "        vertical-align: middle;\n",
              "    }\n",
              "\n",
              "    .dataframe tbody tr th {\n",
              "        vertical-align: top;\n",
              "    }\n",
              "\n",
              "    .dataframe thead th {\n",
              "        text-align: right;\n",
              "    }\n",
              "</style>\n",
              "<table border=\"1\" class=\"dataframe\">\n",
              "  <thead>\n",
              "    <tr style=\"text-align: right;\">\n",
              "      <th></th>\n",
              "      <th>Label</th>\n",
              "      <th>ZCR Mean</th>\n",
              "      <th>ZCR Median</th>\n",
              "      <th>ZCR Std Dev</th>\n",
              "      <th>ZCR Kurtosis</th>\n",
              "      <th>ZCR Skew</th>\n",
              "      <th>RMSE</th>\n",
              "      <th>RMSE Median</th>\n",
              "      <th>RMSE Std Dev</th>\n",
              "      <th>RMSE Kurtosis</th>\n",
              "      <th>RMSE Skew</th>\n",
              "    </tr>\n",
              "  </thead>\n",
              "  <tbody>\n",
              "    <tr>\n",
              "      <th>0</th>\n",
              "      <td>YAF_sad</td>\n",
              "      <td>0.128581</td>\n",
              "      <td>0.033203</td>\n",
              "      <td>0.225249</td>\n",
              "      <td>3.231511</td>\n",
              "      <td>2.213080</td>\n",
              "      <td>0.001907</td>\n",
              "      <td>0.000391</td>\n",
              "      <td>0.004361</td>\n",
              "      <td>28.695116</td>\n",
              "      <td>4.718993</td>\n",
              "    </tr>\n",
              "    <tr>\n",
              "      <th>1</th>\n",
              "      <td>YAF_sad</td>\n",
              "      <td>0.118958</td>\n",
              "      <td>0.028320</td>\n",
              "      <td>0.195816</td>\n",
              "      <td>4.225416</td>\n",
              "      <td>2.337965</td>\n",
              "      <td>0.000546</td>\n",
              "      <td>0.000059</td>\n",
              "      <td>0.001320</td>\n",
              "      <td>37.525358</td>\n",
              "      <td>5.243677</td>\n",
              "    </tr>\n",
              "    <tr>\n",
              "      <th>2</th>\n",
              "      <td>YAF_sad</td>\n",
              "      <td>0.124418</td>\n",
              "      <td>0.030762</td>\n",
              "      <td>0.203419</td>\n",
              "      <td>3.494584</td>\n",
              "      <td>2.197851</td>\n",
              "      <td>0.000502</td>\n",
              "      <td>0.000045</td>\n",
              "      <td>0.001103</td>\n",
              "      <td>20.908828</td>\n",
              "      <td>4.065221</td>\n",
              "    </tr>\n",
              "    <tr>\n",
              "      <th>3</th>\n",
              "      <td>YAF_sad</td>\n",
              "      <td>0.105494</td>\n",
              "      <td>0.035156</td>\n",
              "      <td>0.194269</td>\n",
              "      <td>5.715395</td>\n",
              "      <td>2.682275</td>\n",
              "      <td>0.001279</td>\n",
              "      <td>0.000270</td>\n",
              "      <td>0.002408</td>\n",
              "      <td>15.520610</td>\n",
              "      <td>3.484518</td>\n",
              "    </tr>\n",
              "    <tr>\n",
              "      <th>4</th>\n",
              "      <td>YAF_sad</td>\n",
              "      <td>0.138011</td>\n",
              "      <td>0.057129</td>\n",
              "      <td>0.193587</td>\n",
              "      <td>3.628069</td>\n",
              "      <td>2.167333</td>\n",
              "      <td>0.001019</td>\n",
              "      <td>0.000084</td>\n",
              "      <td>0.002397</td>\n",
              "      <td>23.264337</td>\n",
              "      <td>4.194062</td>\n",
              "    </tr>\n",
              "    <tr>\n",
              "      <th>...</th>\n",
              "      <td>...</td>\n",
              "      <td>...</td>\n",
              "      <td>...</td>\n",
              "      <td>...</td>\n",
              "      <td>...</td>\n",
              "      <td>...</td>\n",
              "      <td>...</td>\n",
              "      <td>...</td>\n",
              "      <td>...</td>\n",
              "      <td>...</td>\n",
              "      <td>...</td>\n",
              "    </tr>\n",
              "    <tr>\n",
              "      <th>2801</th>\n",
              "      <td>OAF_angry</td>\n",
              "      <td>0.083810</td>\n",
              "      <td>0.052246</td>\n",
              "      <td>0.099268</td>\n",
              "      <td>4.521899</td>\n",
              "      <td>2.239367</td>\n",
              "      <td>0.001529</td>\n",
              "      <td>0.000058</td>\n",
              "      <td>0.003707</td>\n",
              "      <td>21.352151</td>\n",
              "      <td>4.054795</td>\n",
              "    </tr>\n",
              "    <tr>\n",
              "      <th>2802</th>\n",
              "      <td>OAF_angry</td>\n",
              "      <td>0.115001</td>\n",
              "      <td>0.060059</td>\n",
              "      <td>0.118703</td>\n",
              "      <td>3.370580</td>\n",
              "      <td>2.012270</td>\n",
              "      <td>0.001743</td>\n",
              "      <td>0.000146</td>\n",
              "      <td>0.004667</td>\n",
              "      <td>41.713213</td>\n",
              "      <td>5.561090</td>\n",
              "    </tr>\n",
              "    <tr>\n",
              "      <th>2803</th>\n",
              "      <td>OAF_angry</td>\n",
              "      <td>0.083991</td>\n",
              "      <td>0.051270</td>\n",
              "      <td>0.091742</td>\n",
              "      <td>7.208814</td>\n",
              "      <td>2.744011</td>\n",
              "      <td>0.003030</td>\n",
              "      <td>0.000291</td>\n",
              "      <td>0.006712</td>\n",
              "      <td>21.150835</td>\n",
              "      <td>3.983283</td>\n",
              "    </tr>\n",
              "    <tr>\n",
              "      <th>2804</th>\n",
              "      <td>OAF_angry</td>\n",
              "      <td>0.085005</td>\n",
              "      <td>0.059082</td>\n",
              "      <td>0.090037</td>\n",
              "      <td>5.366187</td>\n",
              "      <td>2.422199</td>\n",
              "      <td>0.001496</td>\n",
              "      <td>0.000135</td>\n",
              "      <td>0.004290</td>\n",
              "      <td>31.532767</td>\n",
              "      <td>5.091522</td>\n",
              "    </tr>\n",
              "    <tr>\n",
              "      <th>2805</th>\n",
              "      <td>OAF_angry</td>\n",
              "      <td>0.074580</td>\n",
              "      <td>0.048340</td>\n",
              "      <td>0.098578</td>\n",
              "      <td>7.797457</td>\n",
              "      <td>2.908089</td>\n",
              "      <td>0.002085</td>\n",
              "      <td>0.000142</td>\n",
              "      <td>0.005027</td>\n",
              "      <td>26.139703</td>\n",
              "      <td>4.373508</td>\n",
              "    </tr>\n",
              "  </tbody>\n",
              "</table>\n",
              "<p>2806 rows × 11 columns</p>\n",
              "</div>\n",
              "    <div class=\"colab-df-buttons\">\n",
              "\n",
              "  <div class=\"colab-df-container\">\n",
              "    <button class=\"colab-df-convert\" onclick=\"convertToInteractive('df-265e47c2-d36c-4794-9cb0-6bdff5312ae2')\"\n",
              "            title=\"Convert this dataframe to an interactive table.\"\n",
              "            style=\"display:none;\">\n",
              "\n",
              "  <svg xmlns=\"http://www.w3.org/2000/svg\" height=\"24px\" viewBox=\"0 -960 960 960\">\n",
              "    <path d=\"M120-120v-720h720v720H120Zm60-500h600v-160H180v160Zm220 220h160v-160H400v160Zm0 220h160v-160H400v160ZM180-400h160v-160H180v160Zm440 0h160v-160H620v160ZM180-180h160v-160H180v160Zm440 0h160v-160H620v160Z\"/>\n",
              "  </svg>\n",
              "    </button>\n",
              "\n",
              "  <style>\n",
              "    .colab-df-container {\n",
              "      display:flex;\n",
              "      gap: 12px;\n",
              "    }\n",
              "\n",
              "    .colab-df-convert {\n",
              "      background-color: #E8F0FE;\n",
              "      border: none;\n",
              "      border-radius: 50%;\n",
              "      cursor: pointer;\n",
              "      display: none;\n",
              "      fill: #1967D2;\n",
              "      height: 32px;\n",
              "      padding: 0 0 0 0;\n",
              "      width: 32px;\n",
              "    }\n",
              "\n",
              "    .colab-df-convert:hover {\n",
              "      background-color: #E2EBFA;\n",
              "      box-shadow: 0px 1px 2px rgba(60, 64, 67, 0.3), 0px 1px 3px 1px rgba(60, 64, 67, 0.15);\n",
              "      fill: #174EA6;\n",
              "    }\n",
              "\n",
              "    .colab-df-buttons div {\n",
              "      margin-bottom: 4px;\n",
              "    }\n",
              "\n",
              "    [theme=dark] .colab-df-convert {\n",
              "      background-color: #3B4455;\n",
              "      fill: #D2E3FC;\n",
              "    }\n",
              "\n",
              "    [theme=dark] .colab-df-convert:hover {\n",
              "      background-color: #434B5C;\n",
              "      box-shadow: 0px 1px 3px 1px rgba(0, 0, 0, 0.15);\n",
              "      filter: drop-shadow(0px 1px 2px rgba(0, 0, 0, 0.3));\n",
              "      fill: #FFFFFF;\n",
              "    }\n",
              "  </style>\n",
              "\n",
              "    <script>\n",
              "      const buttonEl =\n",
              "        document.querySelector('#df-265e47c2-d36c-4794-9cb0-6bdff5312ae2 button.colab-df-convert');\n",
              "      buttonEl.style.display =\n",
              "        google.colab.kernel.accessAllowed ? 'block' : 'none';\n",
              "\n",
              "      async function convertToInteractive(key) {\n",
              "        const element = document.querySelector('#df-265e47c2-d36c-4794-9cb0-6bdff5312ae2');\n",
              "        const dataTable =\n",
              "          await google.colab.kernel.invokeFunction('convertToInteractive',\n",
              "                                                    [key], {});\n",
              "        if (!dataTable) return;\n",
              "\n",
              "        const docLinkHtml = 'Like what you see? Visit the ' +\n",
              "          '<a target=\"_blank\" href=https://colab.research.google.com/notebooks/data_table.ipynb>data table notebook</a>'\n",
              "          + ' to learn more about interactive tables.';\n",
              "        element.innerHTML = '';\n",
              "        dataTable['output_type'] = 'display_data';\n",
              "        await google.colab.output.renderOutput(dataTable, element);\n",
              "        const docLink = document.createElement('div');\n",
              "        docLink.innerHTML = docLinkHtml;\n",
              "        element.appendChild(docLink);\n",
              "      }\n",
              "    </script>\n",
              "  </div>\n",
              "\n",
              "\n",
              "<div id=\"df-71545887-3089-4d16-a412-b88bcb9dc2cb\">\n",
              "  <button class=\"colab-df-quickchart\" onclick=\"quickchart('df-71545887-3089-4d16-a412-b88bcb9dc2cb')\"\n",
              "            title=\"Suggest charts\"\n",
              "            style=\"display:none;\">\n",
              "\n",
              "<svg xmlns=\"http://www.w3.org/2000/svg\" height=\"24px\"viewBox=\"0 0 24 24\"\n",
              "     width=\"24px\">\n",
              "    <g>\n",
              "        <path d=\"M19 3H5c-1.1 0-2 .9-2 2v14c0 1.1.9 2 2 2h14c1.1 0 2-.9 2-2V5c0-1.1-.9-2-2-2zM9 17H7v-7h2v7zm4 0h-2V7h2v10zm4 0h-2v-4h2v4z\"/>\n",
              "    </g>\n",
              "</svg>\n",
              "  </button>\n",
              "\n",
              "<style>\n",
              "  .colab-df-quickchart {\n",
              "      --bg-color: #E8F0FE;\n",
              "      --fill-color: #1967D2;\n",
              "      --hover-bg-color: #E2EBFA;\n",
              "      --hover-fill-color: #174EA6;\n",
              "      --disabled-fill-color: #AAA;\n",
              "      --disabled-bg-color: #DDD;\n",
              "  }\n",
              "\n",
              "  [theme=dark] .colab-df-quickchart {\n",
              "      --bg-color: #3B4455;\n",
              "      --fill-color: #D2E3FC;\n",
              "      --hover-bg-color: #434B5C;\n",
              "      --hover-fill-color: #FFFFFF;\n",
              "      --disabled-bg-color: #3B4455;\n",
              "      --disabled-fill-color: #666;\n",
              "  }\n",
              "\n",
              "  .colab-df-quickchart {\n",
              "    background-color: var(--bg-color);\n",
              "    border: none;\n",
              "    border-radius: 50%;\n",
              "    cursor: pointer;\n",
              "    display: none;\n",
              "    fill: var(--fill-color);\n",
              "    height: 32px;\n",
              "    padding: 0;\n",
              "    width: 32px;\n",
              "  }\n",
              "\n",
              "  .colab-df-quickchart:hover {\n",
              "    background-color: var(--hover-bg-color);\n",
              "    box-shadow: 0 1px 2px rgba(60, 64, 67, 0.3), 0 1px 3px 1px rgba(60, 64, 67, 0.15);\n",
              "    fill: var(--button-hover-fill-color);\n",
              "  }\n",
              "\n",
              "  .colab-df-quickchart-complete:disabled,\n",
              "  .colab-df-quickchart-complete:disabled:hover {\n",
              "    background-color: var(--disabled-bg-color);\n",
              "    fill: var(--disabled-fill-color);\n",
              "    box-shadow: none;\n",
              "  }\n",
              "\n",
              "  .colab-df-spinner {\n",
              "    border: 2px solid var(--fill-color);\n",
              "    border-color: transparent;\n",
              "    border-bottom-color: var(--fill-color);\n",
              "    animation:\n",
              "      spin 1s steps(1) infinite;\n",
              "  }\n",
              "\n",
              "  @keyframes spin {\n",
              "    0% {\n",
              "      border-color: transparent;\n",
              "      border-bottom-color: var(--fill-color);\n",
              "      border-left-color: var(--fill-color);\n",
              "    }\n",
              "    20% {\n",
              "      border-color: transparent;\n",
              "      border-left-color: var(--fill-color);\n",
              "      border-top-color: var(--fill-color);\n",
              "    }\n",
              "    30% {\n",
              "      border-color: transparent;\n",
              "      border-left-color: var(--fill-color);\n",
              "      border-top-color: var(--fill-color);\n",
              "      border-right-color: var(--fill-color);\n",
              "    }\n",
              "    40% {\n",
              "      border-color: transparent;\n",
              "      border-right-color: var(--fill-color);\n",
              "      border-top-color: var(--fill-color);\n",
              "    }\n",
              "    60% {\n",
              "      border-color: transparent;\n",
              "      border-right-color: var(--fill-color);\n",
              "    }\n",
              "    80% {\n",
              "      border-color: transparent;\n",
              "      border-right-color: var(--fill-color);\n",
              "      border-bottom-color: var(--fill-color);\n",
              "    }\n",
              "    90% {\n",
              "      border-color: transparent;\n",
              "      border-bottom-color: var(--fill-color);\n",
              "    }\n",
              "  }\n",
              "</style>\n",
              "\n",
              "  <script>\n",
              "    async function quickchart(key) {\n",
              "      const quickchartButtonEl =\n",
              "        document.querySelector('#' + key + ' button');\n",
              "      quickchartButtonEl.disabled = true;  // To prevent multiple clicks.\n",
              "      quickchartButtonEl.classList.add('colab-df-spinner');\n",
              "      try {\n",
              "        const charts = await google.colab.kernel.invokeFunction(\n",
              "            'suggestCharts', [key], {});\n",
              "      } catch (error) {\n",
              "        console.error('Error during call to suggestCharts:', error);\n",
              "      }\n",
              "      quickchartButtonEl.classList.remove('colab-df-spinner');\n",
              "      quickchartButtonEl.classList.add('colab-df-quickchart-complete');\n",
              "    }\n",
              "    (() => {\n",
              "      let quickchartButtonEl =\n",
              "        document.querySelector('#df-71545887-3089-4d16-a412-b88bcb9dc2cb button');\n",
              "      quickchartButtonEl.style.display =\n",
              "        google.colab.kernel.accessAllowed ? 'block' : 'none';\n",
              "    })();\n",
              "  </script>\n",
              "</div>\n",
              "    </div>\n",
              "  </div>\n"
            ]
          },
          "metadata": {},
          "execution_count": 52
        }
      ]
    },
    {
      "cell_type": "markdown",
      "source": [
        "1. **Label** <br>\n",
        "  - OAF_angry: Ekspresi marah dari pembicara OAF. <br>\n",
        "  - OAF_disgust: Ekspresi jijik atau muak dari pembicara OAF. <br>\n",
        "  - OAF_Fear: Ekspresi takut dari pembicara OAF. <br>\n",
        "  - OAF_happy: Ekspresi bahagia dari pembicara OAF. <br>\n",
        "  - OAF_neutral: Ekspresi netral dari pembicara OAF. <br>\n",
        "  - OAF_Pleasant_surprise: Ekspresi kejutan menyenangkan dari pembicara OAF. <br>\n",
        "  - OAF_Sad: Ekspresi sedih dari pembicara OAF. <br>\n",
        "  - YAF_angry: Ekspresi marah dari pembicara YAF. <br>\n",
        "  - YAF_disgust: Ekspresi jijik atau muak dari pembicara YAF. <br>\n",
        "  - YAF_fear: Ekspresi takut dari pembicara YAF. <br>\n",
        "  - YAF_happy: Ekspresi bahagia dari pembicara YAF. <br>\n",
        "  - YAF_neutral: Ekspresi netral dari pembicara YAF. <br>\n",
        "  - YAF_Pleasant_surprise: Ekspresi kejutan menyenangkan dari pembicara YAF. <br>\n",
        "  - YAF_sad: Ekspresi sedih dari pembicara YAF. <br>"
      ],
      "metadata": {
        "id": "KhYF5soYelr8"
      }
    },
    {
      "cell_type": "code",
      "source": [
        "#menyimpan file hasil dari ekstraksi fitur\n",
        "df.to_csv('dataemosi.csv',index=False)"
      ],
      "metadata": {
        "id": "KkjQwoVc4KzY"
      },
      "execution_count": null,
      "outputs": []
    },
    {
      "cell_type": "markdown",
      "source": [
        "# **NORMALISASI STANDARD SCALER**"
      ],
      "metadata": {
        "id": "fLarGnIK7y79"
      }
    },
    {
      "cell_type": "markdown",
      "source": [
        "StandardScaler adalah suatu metode dalam pemrosesan data yang digunakan untuk mentransformasi fitur-fitur data sehingga memiliki mean 0 dan deviasi standar 1. Ini adalah salah satu langkah umum dalam pra-pemrosesan data sebelum membangun model. Proses ini membantu menghilangkan perbedaan skala antar fitur, sehingga setiap fitur memiliki pengaruh yang sebanding pada model.\n"
      ],
      "metadata": {
        "id": "O7shgyh180rz"
      }
    },
    {
      "cell_type": "markdown",
      "source": [
        "Rumus Standard Scaler: <br>\n",
        "$z = \\frac{{x - \\mu}}{{\\sigma}}$\n",
        "\n",
        "di mana:<br>\n",
        "- z adalah nilai yang telah di-standarisasi,<br>\n",
        "- x adalah nilai asli,<br>\n",
        "- μ adalah rata-rata dari sampel,<br>\n",
        "- σ adalah deviasi standar dari sampel.<br>\n"
      ],
      "metadata": {
        "id": "1hweYIrxvNZi"
      }
    },
    {
      "cell_type": "code",
      "source": [
        "from sklearn.model_selection import train_test_split\n",
        "from sklearn.preprocessing import StandardScaler\n",
        "from sklearn.neighbors import KNeighborsClassifier\n",
        "from pickle import dump"
      ],
      "metadata": {
        "id": "mFNplbLT4bZT"
      },
      "execution_count": null,
      "outputs": []
    },
    {
      "cell_type": "code",
      "source": [
        "# Baca data dari file CSV\n",
        "dataknn = pd.read_csv('dataemosi.csv')\n",
        "\n",
        "# Pisahkan fitur (X) dan label (y)\n",
        "X = dataknn.drop(['Label'], axis=1)  # Menghapus kolom 'Label' sebagai fitur dan menyimpannya di variabel X\n",
        "y = dataknn['Label']  # Mengambil kolom 'Label' sebagai label dan menyimpannya di variabel y\n",
        "\n",
        "# Bagi data menjadi set pelatihan dan pengujian\n",
        "X_train, X_test, y_train, y_test = train_test_split(X, y, random_state=1, test_size=0.2)\n",
        "\n",
        "# Tentukan scaler\n",
        "scaler = StandardScaler()\n",
        "\n",
        "# Terapkan scaler pada dataset pelatihan\n",
        "scaler.fit(X_train)\n",
        "\n",
        "# Simpan scaler\n",
        "dump(scaler, open('scaler.pkl', 'wb'))\n",
        "\n",
        "# Normalisasi dataset pelatihan\n",
        "X_train_scaled = scaler.transform(X_train)\n",
        "\n",
        "# Tampilkan datasetknn\n",
        "dataknn\n"
      ],
      "metadata": {
        "colab": {
          "base_uri": "https://localhost:8080/",
          "height": 423
        },
        "id": "ni3VsqiQ5N1P",
        "outputId": "c415681c-4330-4db8-a5b6-8c9dddfd6862"
      },
      "execution_count": null,
      "outputs": [
        {
          "output_type": "execute_result",
          "data": {
            "text/plain": [
              "          Label  ZCR Mean  ZCR Median  ZCR Std Dev  ZCR Kurtosis  ZCR Skew  \\\n",
              "0       YAF_sad  0.128581    0.033203     0.225249      3.231511  2.213080   \n",
              "1       YAF_sad  0.118958    0.028320     0.195816      4.225416  2.337965   \n",
              "2       YAF_sad  0.124418    0.030762     0.203419      3.494584  2.197851   \n",
              "3       YAF_sad  0.105494    0.035156     0.194269      5.715395  2.682275   \n",
              "4       YAF_sad  0.138011    0.057129     0.193587      3.628069  2.167333   \n",
              "...         ...       ...         ...          ...           ...       ...   \n",
              "2801  OAF_angry  0.083810    0.052246     0.099268      4.521899  2.239367   \n",
              "2802  OAF_angry  0.115001    0.060059     0.118703      3.370580  2.012270   \n",
              "2803  OAF_angry  0.083991    0.051270     0.091742      7.208814  2.744011   \n",
              "2804  OAF_angry  0.085005    0.059082     0.090037      5.366187  2.422199   \n",
              "2805  OAF_angry  0.074580    0.048340     0.098578      7.797457  2.908089   \n",
              "\n",
              "          RMSE  RMSE Median  RMSE Std Dev  RMSE Kurtosis  RMSE Skew  \n",
              "0     0.001907     0.000391      0.004361      28.695116   4.718993  \n",
              "1     0.000546     0.000059      0.001320      37.525358   5.243677  \n",
              "2     0.000502     0.000045      0.001103      20.908828   4.065221  \n",
              "3     0.001279     0.000270      0.002408      15.520610   3.484518  \n",
              "4     0.001019     0.000084      0.002397      23.264337   4.194062  \n",
              "...        ...          ...           ...            ...        ...  \n",
              "2801  0.001529     0.000058      0.003707      21.352151   4.054795  \n",
              "2802  0.001743     0.000146      0.004667      41.713213   5.561090  \n",
              "2803  0.003030     0.000291      0.006712      21.150835   3.983283  \n",
              "2804  0.001496     0.000135      0.004290      31.532767   5.091522  \n",
              "2805  0.002085     0.000142      0.005027      26.139703   4.373508  \n",
              "\n",
              "[2806 rows x 11 columns]"
            ],
            "text/html": [
              "\n",
              "  <div id=\"df-1370d9e2-b0cb-4904-beaa-2f4ebfcee515\" class=\"colab-df-container\">\n",
              "    <div>\n",
              "<style scoped>\n",
              "    .dataframe tbody tr th:only-of-type {\n",
              "        vertical-align: middle;\n",
              "    }\n",
              "\n",
              "    .dataframe tbody tr th {\n",
              "        vertical-align: top;\n",
              "    }\n",
              "\n",
              "    .dataframe thead th {\n",
              "        text-align: right;\n",
              "    }\n",
              "</style>\n",
              "<table border=\"1\" class=\"dataframe\">\n",
              "  <thead>\n",
              "    <tr style=\"text-align: right;\">\n",
              "      <th></th>\n",
              "      <th>Label</th>\n",
              "      <th>ZCR Mean</th>\n",
              "      <th>ZCR Median</th>\n",
              "      <th>ZCR Std Dev</th>\n",
              "      <th>ZCR Kurtosis</th>\n",
              "      <th>ZCR Skew</th>\n",
              "      <th>RMSE</th>\n",
              "      <th>RMSE Median</th>\n",
              "      <th>RMSE Std Dev</th>\n",
              "      <th>RMSE Kurtosis</th>\n",
              "      <th>RMSE Skew</th>\n",
              "    </tr>\n",
              "  </thead>\n",
              "  <tbody>\n",
              "    <tr>\n",
              "      <th>0</th>\n",
              "      <td>YAF_sad</td>\n",
              "      <td>0.128581</td>\n",
              "      <td>0.033203</td>\n",
              "      <td>0.225249</td>\n",
              "      <td>3.231511</td>\n",
              "      <td>2.213080</td>\n",
              "      <td>0.001907</td>\n",
              "      <td>0.000391</td>\n",
              "      <td>0.004361</td>\n",
              "      <td>28.695116</td>\n",
              "      <td>4.718993</td>\n",
              "    </tr>\n",
              "    <tr>\n",
              "      <th>1</th>\n",
              "      <td>YAF_sad</td>\n",
              "      <td>0.118958</td>\n",
              "      <td>0.028320</td>\n",
              "      <td>0.195816</td>\n",
              "      <td>4.225416</td>\n",
              "      <td>2.337965</td>\n",
              "      <td>0.000546</td>\n",
              "      <td>0.000059</td>\n",
              "      <td>0.001320</td>\n",
              "      <td>37.525358</td>\n",
              "      <td>5.243677</td>\n",
              "    </tr>\n",
              "    <tr>\n",
              "      <th>2</th>\n",
              "      <td>YAF_sad</td>\n",
              "      <td>0.124418</td>\n",
              "      <td>0.030762</td>\n",
              "      <td>0.203419</td>\n",
              "      <td>3.494584</td>\n",
              "      <td>2.197851</td>\n",
              "      <td>0.000502</td>\n",
              "      <td>0.000045</td>\n",
              "      <td>0.001103</td>\n",
              "      <td>20.908828</td>\n",
              "      <td>4.065221</td>\n",
              "    </tr>\n",
              "    <tr>\n",
              "      <th>3</th>\n",
              "      <td>YAF_sad</td>\n",
              "      <td>0.105494</td>\n",
              "      <td>0.035156</td>\n",
              "      <td>0.194269</td>\n",
              "      <td>5.715395</td>\n",
              "      <td>2.682275</td>\n",
              "      <td>0.001279</td>\n",
              "      <td>0.000270</td>\n",
              "      <td>0.002408</td>\n",
              "      <td>15.520610</td>\n",
              "      <td>3.484518</td>\n",
              "    </tr>\n",
              "    <tr>\n",
              "      <th>4</th>\n",
              "      <td>YAF_sad</td>\n",
              "      <td>0.138011</td>\n",
              "      <td>0.057129</td>\n",
              "      <td>0.193587</td>\n",
              "      <td>3.628069</td>\n",
              "      <td>2.167333</td>\n",
              "      <td>0.001019</td>\n",
              "      <td>0.000084</td>\n",
              "      <td>0.002397</td>\n",
              "      <td>23.264337</td>\n",
              "      <td>4.194062</td>\n",
              "    </tr>\n",
              "    <tr>\n",
              "      <th>...</th>\n",
              "      <td>...</td>\n",
              "      <td>...</td>\n",
              "      <td>...</td>\n",
              "      <td>...</td>\n",
              "      <td>...</td>\n",
              "      <td>...</td>\n",
              "      <td>...</td>\n",
              "      <td>...</td>\n",
              "      <td>...</td>\n",
              "      <td>...</td>\n",
              "      <td>...</td>\n",
              "    </tr>\n",
              "    <tr>\n",
              "      <th>2801</th>\n",
              "      <td>OAF_angry</td>\n",
              "      <td>0.083810</td>\n",
              "      <td>0.052246</td>\n",
              "      <td>0.099268</td>\n",
              "      <td>4.521899</td>\n",
              "      <td>2.239367</td>\n",
              "      <td>0.001529</td>\n",
              "      <td>0.000058</td>\n",
              "      <td>0.003707</td>\n",
              "      <td>21.352151</td>\n",
              "      <td>4.054795</td>\n",
              "    </tr>\n",
              "    <tr>\n",
              "      <th>2802</th>\n",
              "      <td>OAF_angry</td>\n",
              "      <td>0.115001</td>\n",
              "      <td>0.060059</td>\n",
              "      <td>0.118703</td>\n",
              "      <td>3.370580</td>\n",
              "      <td>2.012270</td>\n",
              "      <td>0.001743</td>\n",
              "      <td>0.000146</td>\n",
              "      <td>0.004667</td>\n",
              "      <td>41.713213</td>\n",
              "      <td>5.561090</td>\n",
              "    </tr>\n",
              "    <tr>\n",
              "      <th>2803</th>\n",
              "      <td>OAF_angry</td>\n",
              "      <td>0.083991</td>\n",
              "      <td>0.051270</td>\n",
              "      <td>0.091742</td>\n",
              "      <td>7.208814</td>\n",
              "      <td>2.744011</td>\n",
              "      <td>0.003030</td>\n",
              "      <td>0.000291</td>\n",
              "      <td>0.006712</td>\n",
              "      <td>21.150835</td>\n",
              "      <td>3.983283</td>\n",
              "    </tr>\n",
              "    <tr>\n",
              "      <th>2804</th>\n",
              "      <td>OAF_angry</td>\n",
              "      <td>0.085005</td>\n",
              "      <td>0.059082</td>\n",
              "      <td>0.090037</td>\n",
              "      <td>5.366187</td>\n",
              "      <td>2.422199</td>\n",
              "      <td>0.001496</td>\n",
              "      <td>0.000135</td>\n",
              "      <td>0.004290</td>\n",
              "      <td>31.532767</td>\n",
              "      <td>5.091522</td>\n",
              "    </tr>\n",
              "    <tr>\n",
              "      <th>2805</th>\n",
              "      <td>OAF_angry</td>\n",
              "      <td>0.074580</td>\n",
              "      <td>0.048340</td>\n",
              "      <td>0.098578</td>\n",
              "      <td>7.797457</td>\n",
              "      <td>2.908089</td>\n",
              "      <td>0.002085</td>\n",
              "      <td>0.000142</td>\n",
              "      <td>0.005027</td>\n",
              "      <td>26.139703</td>\n",
              "      <td>4.373508</td>\n",
              "    </tr>\n",
              "  </tbody>\n",
              "</table>\n",
              "<p>2806 rows × 11 columns</p>\n",
              "</div>\n",
              "    <div class=\"colab-df-buttons\">\n",
              "\n",
              "  <div class=\"colab-df-container\">\n",
              "    <button class=\"colab-df-convert\" onclick=\"convertToInteractive('df-1370d9e2-b0cb-4904-beaa-2f4ebfcee515')\"\n",
              "            title=\"Convert this dataframe to an interactive table.\"\n",
              "            style=\"display:none;\">\n",
              "\n",
              "  <svg xmlns=\"http://www.w3.org/2000/svg\" height=\"24px\" viewBox=\"0 -960 960 960\">\n",
              "    <path d=\"M120-120v-720h720v720H120Zm60-500h600v-160H180v160Zm220 220h160v-160H400v160Zm0 220h160v-160H400v160ZM180-400h160v-160H180v160Zm440 0h160v-160H620v160ZM180-180h160v-160H180v160Zm440 0h160v-160H620v160Z\"/>\n",
              "  </svg>\n",
              "    </button>\n",
              "\n",
              "  <style>\n",
              "    .colab-df-container {\n",
              "      display:flex;\n",
              "      gap: 12px;\n",
              "    }\n",
              "\n",
              "    .colab-df-convert {\n",
              "      background-color: #E8F0FE;\n",
              "      border: none;\n",
              "      border-radius: 50%;\n",
              "      cursor: pointer;\n",
              "      display: none;\n",
              "      fill: #1967D2;\n",
              "      height: 32px;\n",
              "      padding: 0 0 0 0;\n",
              "      width: 32px;\n",
              "    }\n",
              "\n",
              "    .colab-df-convert:hover {\n",
              "      background-color: #E2EBFA;\n",
              "      box-shadow: 0px 1px 2px rgba(60, 64, 67, 0.3), 0px 1px 3px 1px rgba(60, 64, 67, 0.15);\n",
              "      fill: #174EA6;\n",
              "    }\n",
              "\n",
              "    .colab-df-buttons div {\n",
              "      margin-bottom: 4px;\n",
              "    }\n",
              "\n",
              "    [theme=dark] .colab-df-convert {\n",
              "      background-color: #3B4455;\n",
              "      fill: #D2E3FC;\n",
              "    }\n",
              "\n",
              "    [theme=dark] .colab-df-convert:hover {\n",
              "      background-color: #434B5C;\n",
              "      box-shadow: 0px 1px 3px 1px rgba(0, 0, 0, 0.15);\n",
              "      filter: drop-shadow(0px 1px 2px rgba(0, 0, 0, 0.3));\n",
              "      fill: #FFFFFF;\n",
              "    }\n",
              "  </style>\n",
              "\n",
              "    <script>\n",
              "      const buttonEl =\n",
              "        document.querySelector('#df-1370d9e2-b0cb-4904-beaa-2f4ebfcee515 button.colab-df-convert');\n",
              "      buttonEl.style.display =\n",
              "        google.colab.kernel.accessAllowed ? 'block' : 'none';\n",
              "\n",
              "      async function convertToInteractive(key) {\n",
              "        const element = document.querySelector('#df-1370d9e2-b0cb-4904-beaa-2f4ebfcee515');\n",
              "        const dataTable =\n",
              "          await google.colab.kernel.invokeFunction('convertToInteractive',\n",
              "                                                    [key], {});\n",
              "        if (!dataTable) return;\n",
              "\n",
              "        const docLinkHtml = 'Like what you see? Visit the ' +\n",
              "          '<a target=\"_blank\" href=https://colab.research.google.com/notebooks/data_table.ipynb>data table notebook</a>'\n",
              "          + ' to learn more about interactive tables.';\n",
              "        element.innerHTML = '';\n",
              "        dataTable['output_type'] = 'display_data';\n",
              "        await google.colab.output.renderOutput(dataTable, element);\n",
              "        const docLink = document.createElement('div');\n",
              "        docLink.innerHTML = docLinkHtml;\n",
              "        element.appendChild(docLink);\n",
              "      }\n",
              "    </script>\n",
              "  </div>\n",
              "\n",
              "\n",
              "<div id=\"df-6ca6b864-7db1-4d23-b2d3-a56078b266fd\">\n",
              "  <button class=\"colab-df-quickchart\" onclick=\"quickchart('df-6ca6b864-7db1-4d23-b2d3-a56078b266fd')\"\n",
              "            title=\"Suggest charts\"\n",
              "            style=\"display:none;\">\n",
              "\n",
              "<svg xmlns=\"http://www.w3.org/2000/svg\" height=\"24px\"viewBox=\"0 0 24 24\"\n",
              "     width=\"24px\">\n",
              "    <g>\n",
              "        <path d=\"M19 3H5c-1.1 0-2 .9-2 2v14c0 1.1.9 2 2 2h14c1.1 0 2-.9 2-2V5c0-1.1-.9-2-2-2zM9 17H7v-7h2v7zm4 0h-2V7h2v10zm4 0h-2v-4h2v4z\"/>\n",
              "    </g>\n",
              "</svg>\n",
              "  </button>\n",
              "\n",
              "<style>\n",
              "  .colab-df-quickchart {\n",
              "      --bg-color: #E8F0FE;\n",
              "      --fill-color: #1967D2;\n",
              "      --hover-bg-color: #E2EBFA;\n",
              "      --hover-fill-color: #174EA6;\n",
              "      --disabled-fill-color: #AAA;\n",
              "      --disabled-bg-color: #DDD;\n",
              "  }\n",
              "\n",
              "  [theme=dark] .colab-df-quickchart {\n",
              "      --bg-color: #3B4455;\n",
              "      --fill-color: #D2E3FC;\n",
              "      --hover-bg-color: #434B5C;\n",
              "      --hover-fill-color: #FFFFFF;\n",
              "      --disabled-bg-color: #3B4455;\n",
              "      --disabled-fill-color: #666;\n",
              "  }\n",
              "\n",
              "  .colab-df-quickchart {\n",
              "    background-color: var(--bg-color);\n",
              "    border: none;\n",
              "    border-radius: 50%;\n",
              "    cursor: pointer;\n",
              "    display: none;\n",
              "    fill: var(--fill-color);\n",
              "    height: 32px;\n",
              "    padding: 0;\n",
              "    width: 32px;\n",
              "  }\n",
              "\n",
              "  .colab-df-quickchart:hover {\n",
              "    background-color: var(--hover-bg-color);\n",
              "    box-shadow: 0 1px 2px rgba(60, 64, 67, 0.3), 0 1px 3px 1px rgba(60, 64, 67, 0.15);\n",
              "    fill: var(--button-hover-fill-color);\n",
              "  }\n",
              "\n",
              "  .colab-df-quickchart-complete:disabled,\n",
              "  .colab-df-quickchart-complete:disabled:hover {\n",
              "    background-color: var(--disabled-bg-color);\n",
              "    fill: var(--disabled-fill-color);\n",
              "    box-shadow: none;\n",
              "  }\n",
              "\n",
              "  .colab-df-spinner {\n",
              "    border: 2px solid var(--fill-color);\n",
              "    border-color: transparent;\n",
              "    border-bottom-color: var(--fill-color);\n",
              "    animation:\n",
              "      spin 1s steps(1) infinite;\n",
              "  }\n",
              "\n",
              "  @keyframes spin {\n",
              "    0% {\n",
              "      border-color: transparent;\n",
              "      border-bottom-color: var(--fill-color);\n",
              "      border-left-color: var(--fill-color);\n",
              "    }\n",
              "    20% {\n",
              "      border-color: transparent;\n",
              "      border-left-color: var(--fill-color);\n",
              "      border-top-color: var(--fill-color);\n",
              "    }\n",
              "    30% {\n",
              "      border-color: transparent;\n",
              "      border-left-color: var(--fill-color);\n",
              "      border-top-color: var(--fill-color);\n",
              "      border-right-color: var(--fill-color);\n",
              "    }\n",
              "    40% {\n",
              "      border-color: transparent;\n",
              "      border-right-color: var(--fill-color);\n",
              "      border-top-color: var(--fill-color);\n",
              "    }\n",
              "    60% {\n",
              "      border-color: transparent;\n",
              "      border-right-color: var(--fill-color);\n",
              "    }\n",
              "    80% {\n",
              "      border-color: transparent;\n",
              "      border-right-color: var(--fill-color);\n",
              "      border-bottom-color: var(--fill-color);\n",
              "    }\n",
              "    90% {\n",
              "      border-color: transparent;\n",
              "      border-bottom-color: var(--fill-color);\n",
              "    }\n",
              "  }\n",
              "</style>\n",
              "\n",
              "  <script>\n",
              "    async function quickchart(key) {\n",
              "      const quickchartButtonEl =\n",
              "        document.querySelector('#' + key + ' button');\n",
              "      quickchartButtonEl.disabled = true;  // To prevent multiple clicks.\n",
              "      quickchartButtonEl.classList.add('colab-df-spinner');\n",
              "      try {\n",
              "        const charts = await google.colab.kernel.invokeFunction(\n",
              "            'suggestCharts', [key], {});\n",
              "      } catch (error) {\n",
              "        console.error('Error during call to suggestCharts:', error);\n",
              "      }\n",
              "      quickchartButtonEl.classList.remove('colab-df-spinner');\n",
              "      quickchartButtonEl.classList.add('colab-df-quickchart-complete');\n",
              "    }\n",
              "    (() => {\n",
              "      let quickchartButtonEl =\n",
              "        document.querySelector('#df-6ca6b864-7db1-4d23-b2d3-a56078b266fd button');\n",
              "      quickchartButtonEl.style.display =\n",
              "        google.colab.kernel.accessAllowed ? 'block' : 'none';\n",
              "    })();\n",
              "  </script>\n",
              "</div>\n",
              "    </div>\n",
              "  </div>\n"
            ]
          },
          "metadata": {},
          "execution_count": 55
        }
      ]
    },
    {
      "cell_type": "code",
      "source": [
        "import pickle\n",
        "# Membuka file 'scaler.pkl' untuk membaca (mode 'rb' untuk mode baca biner)\n",
        "with open('scaler.pkl', 'rb') as standarisasi:\n",
        "    loadscal = pickle.load(standarisasi)\n"
      ],
      "metadata": {
        "id": "SeaZ5ymb5X14"
      },
      "execution_count": null,
      "outputs": []
    },
    {
      "cell_type": "code",
      "source": [
        "X_test_scaled=loadscal.transform(X_test) #normalisasi X testing dari hasil normalisasi X train yang disimpan dalam model"
      ],
      "metadata": {
        "id": "-ViiR-wJ5mHb"
      },
      "execution_count": null,
      "outputs": []
    },
    {
      "cell_type": "markdown",
      "source": [
        "# **PEMODELAN**"
      ],
      "metadata": {
        "id": "KTpxrP87-_bc"
      }
    },
    {
      "cell_type": "markdown",
      "source": [
        "\n",
        "**K-Nearest Neighbors (KNN):**<br>\n",
        "\n",
        "**Konsep:**<br>\n",
        "K-Nearest Neighbors (KNN) adalah algoritma pembelajaran mesin sederhana yang digunakan untuk klasifikasi dan regresi. Konsep dasar KNN adalah memprediksi label suatu sampel berdasarkan mayoritas label dari K tetangga terdekatnya.\n",
        "\n",
        "**Langkah-langkah KNN:**<br>\n",
        "\n",
        "1.Menentukan Jarak:<br> Hitung jarak (biasanya Euclidean) antara sampel yang akan diprediksi dengan semua sampel dalam set pelatihan.<br>\n",
        "2. Memilih Tetangga:<br> Pilih K tetangga terdekat berdasarkan jarak yang dihitung.<br>\n",
        "3. Menentukan Mayoritas:<br> Untuk klasifikasi, atribut target dari sampel baru diberikan label yang paling umum di antara K tetangga tersebut. Untuk regresi, nilai target dari sampel baru dihitung sebagai rata-rata atau median dari nilai target K tetangga tersebut.<br>\n",
        "**Parameter Utama:**<br>\n",
        "Nilai K: <br>Jumlah tetangga terdekat yang akan dipertimbangkan. Nilai K yang tepat dapat mempengaruhi kinerja algoritma.<br>\n",
        "**Rumus:** <br>\n",
        "Rumus mencari jarak dengan euclidean : <br>\n",
        "$\\text{Euclidean Distance} = \\sqrt{\\sum_{i=1}^{n} (x_i - y_i)^2}$ <br>\n",
        "**Rumus Klasifikasi KNN :** <br>\n",
        "$\\hat{y} = \\text{majority}(\\{y_i \\,|\\, (x_i, y_i) \\in \\text{k-nearest neighbors of } x\\})$"
      ],
      "metadata": {
        "id": "gMPFZ2XUce0a"
      }
    },
    {
      "cell_type": "code",
      "source": [
        "from sklearn.model_selection import train_test_split\n",
        "from sklearn.preprocessing import StandardScaler\n",
        "from sklearn.neighbors import KNeighborsClassifier\n",
        "from pickle import dump\n",
        "from sklearn.metrics import accuracy_score\n",
        "from sklearn.metrics import confusion_matrix"
      ],
      "metadata": {
        "id": "N0Iobdf05pPx"
      },
      "execution_count": null,
      "outputs": []
    },
    {
      "cell_type": "code",
      "source": [
        "K = 30\n",
        "acc = np.zeros((K-1))\n",
        "# Loop untuk mencari nilai akurasi dengan jumlah tetangga (k) dari 1 hingga K dengan langkah 2\n",
        "for n in range(1, K, 2):\n",
        "    # Membuat model k-NN dengan nilai k tertentu dan metrik euclidean\n",
        "    knn = KNeighborsClassifier(n_neighbors=n, metric=\"euclidean\").fit(X_train_scaled, y_train)\n",
        "\n",
        "    # Melakukan prediksi pada data uji\n",
        "    y_pred = knn.predict(X_test_scaled)\n",
        "\n",
        "    # Menghitung dan menyimpan akurasi untuk nilai k saat ini\n",
        "    acc[n-1] = accuracy_score(y_test, y_pred)\n",
        "\n",
        "# Menampilkan nilai akurasi terbaik dan nilai k yang sesuai\n",
        "print('Akurasi terbaik adalah', acc.max(), 'dengan nilai k =', acc.argmax() + 1)\n"
      ],
      "metadata": {
        "colab": {
          "base_uri": "https://localhost:8080/"
        },
        "id": "gAEMGO1l5wxw",
        "outputId": "aae2c6cd-19b5-44a8-debc-22d6a67e98d7"
      },
      "execution_count": null,
      "outputs": [
        {
          "output_type": "stream",
          "name": "stdout",
          "text": [
            "Akurasi terbaik adalah 0.7206405693950177 dengan nilai k = 13\n"
          ]
        }
      ]
    },
    {
      "cell_type": "code",
      "source": [
        "clf = KNeighborsClassifier(n_neighbors= 13, metric = \"euclidean\")"
      ],
      "metadata": {
        "id": "5E9alcCC--Dc"
      },
      "execution_count": null,
      "outputs": []
    },
    {
      "cell_type": "code",
      "source": [
        "clf.fit(X_train_scaled, y_train)"
      ],
      "metadata": {
        "colab": {
          "base_uri": "https://localhost:8080/",
          "height": 74
        },
        "id": "_WJY_esJaDIW",
        "outputId": "01f7587c-438c-4fe3-ba19-e073447f9cd9"
      },
      "execution_count": null,
      "outputs": [
        {
          "output_type": "execute_result",
          "data": {
            "text/plain": [
              "KNeighborsClassifier(metric='euclidean', n_neighbors=13)"
            ],
            "text/html": [
              "<style>#sk-container-id-4 {color: black;background-color: white;}#sk-container-id-4 pre{padding: 0;}#sk-container-id-4 div.sk-toggleable {background-color: white;}#sk-container-id-4 label.sk-toggleable__label {cursor: pointer;display: block;width: 100%;margin-bottom: 0;padding: 0.3em;box-sizing: border-box;text-align: center;}#sk-container-id-4 label.sk-toggleable__label-arrow:before {content: \"▸\";float: left;margin-right: 0.25em;color: #696969;}#sk-container-id-4 label.sk-toggleable__label-arrow:hover:before {color: black;}#sk-container-id-4 div.sk-estimator:hover label.sk-toggleable__label-arrow:before {color: black;}#sk-container-id-4 div.sk-toggleable__content {max-height: 0;max-width: 0;overflow: hidden;text-align: left;background-color: #f0f8ff;}#sk-container-id-4 div.sk-toggleable__content pre {margin: 0.2em;color: black;border-radius: 0.25em;background-color: #f0f8ff;}#sk-container-id-4 input.sk-toggleable__control:checked~div.sk-toggleable__content {max-height: 200px;max-width: 100%;overflow: auto;}#sk-container-id-4 input.sk-toggleable__control:checked~label.sk-toggleable__label-arrow:before {content: \"▾\";}#sk-container-id-4 div.sk-estimator input.sk-toggleable__control:checked~label.sk-toggleable__label {background-color: #d4ebff;}#sk-container-id-4 div.sk-label input.sk-toggleable__control:checked~label.sk-toggleable__label {background-color: #d4ebff;}#sk-container-id-4 input.sk-hidden--visually {border: 0;clip: rect(1px 1px 1px 1px);clip: rect(1px, 1px, 1px, 1px);height: 1px;margin: -1px;overflow: hidden;padding: 0;position: absolute;width: 1px;}#sk-container-id-4 div.sk-estimator {font-family: monospace;background-color: #f0f8ff;border: 1px dotted black;border-radius: 0.25em;box-sizing: border-box;margin-bottom: 0.5em;}#sk-container-id-4 div.sk-estimator:hover {background-color: #d4ebff;}#sk-container-id-4 div.sk-parallel-item::after {content: \"\";width: 100%;border-bottom: 1px solid gray;flex-grow: 1;}#sk-container-id-4 div.sk-label:hover label.sk-toggleable__label {background-color: #d4ebff;}#sk-container-id-4 div.sk-serial::before {content: \"\";position: absolute;border-left: 1px solid gray;box-sizing: border-box;top: 0;bottom: 0;left: 50%;z-index: 0;}#sk-container-id-4 div.sk-serial {display: flex;flex-direction: column;align-items: center;background-color: white;padding-right: 0.2em;padding-left: 0.2em;position: relative;}#sk-container-id-4 div.sk-item {position: relative;z-index: 1;}#sk-container-id-4 div.sk-parallel {display: flex;align-items: stretch;justify-content: center;background-color: white;position: relative;}#sk-container-id-4 div.sk-item::before, #sk-container-id-4 div.sk-parallel-item::before {content: \"\";position: absolute;border-left: 1px solid gray;box-sizing: border-box;top: 0;bottom: 0;left: 50%;z-index: -1;}#sk-container-id-4 div.sk-parallel-item {display: flex;flex-direction: column;z-index: 1;position: relative;background-color: white;}#sk-container-id-4 div.sk-parallel-item:first-child::after {align-self: flex-end;width: 50%;}#sk-container-id-4 div.sk-parallel-item:last-child::after {align-self: flex-start;width: 50%;}#sk-container-id-4 div.sk-parallel-item:only-child::after {width: 0;}#sk-container-id-4 div.sk-dashed-wrapped {border: 1px dashed gray;margin: 0 0.4em 0.5em 0.4em;box-sizing: border-box;padding-bottom: 0.4em;background-color: white;}#sk-container-id-4 div.sk-label label {font-family: monospace;font-weight: bold;display: inline-block;line-height: 1.2em;}#sk-container-id-4 div.sk-label-container {text-align: center;}#sk-container-id-4 div.sk-container {/* jupyter's `normalize.less` sets `[hidden] { display: none; }` but bootstrap.min.css set `[hidden] { display: none !important; }` so we also need the `!important` here to be able to override the default hidden behavior on the sphinx rendered scikit-learn.org. See: https://github.com/scikit-learn/scikit-learn/issues/21755 */display: inline-block !important;position: relative;}#sk-container-id-4 div.sk-text-repr-fallback {display: none;}</style><div id=\"sk-container-id-4\" class=\"sk-top-container\"><div class=\"sk-text-repr-fallback\"><pre>KNeighborsClassifier(metric=&#x27;euclidean&#x27;, n_neighbors=13)</pre><b>In a Jupyter environment, please rerun this cell to show the HTML representation or trust the notebook. <br />On GitHub, the HTML representation is unable to render, please try loading this page with nbviewer.org.</b></div><div class=\"sk-container\" hidden><div class=\"sk-item\"><div class=\"sk-estimator sk-toggleable\"><input class=\"sk-toggleable__control sk-hidden--visually\" id=\"sk-estimator-id-4\" type=\"checkbox\" checked><label for=\"sk-estimator-id-4\" class=\"sk-toggleable__label sk-toggleable__label-arrow\">KNeighborsClassifier</label><div class=\"sk-toggleable__content\"><pre>KNeighborsClassifier(metric=&#x27;euclidean&#x27;, n_neighbors=13)</pre></div></div></div></div></div>"
            ]
          },
          "metadata": {},
          "execution_count": 61
        }
      ]
    },
    {
      "cell_type": "code",
      "source": [
        "# Melakukan prediksi pada data uji yang telah dinormalisasi menggunakan model RandomForestClassifier\n",
        "y_pred = clf.predict(X_test_scaled)\n",
        "\n",
        "# Menampilkan hasil prediksi\n",
        "y_pred"
      ],
      "metadata": {
        "colab": {
          "base_uri": "https://localhost:8080/"
        },
        "id": "tQZoPIZj58hP",
        "outputId": "a914ded0-cbbe-473f-d0d5-87b06ae3dca0"
      },
      "execution_count": null,
      "outputs": [
        {
          "output_type": "execute_result",
          "data": {
            "text/plain": [
              "array(['YAF_fear', 'YAF_pleasant_surprised', 'YAF_fear', 'YAF_angry',\n",
              "       'YAF_angry', 'OAF_disgust', 'OAF_disgust', 'YAF_neutral',\n",
              "       'OAF_disgust', 'OAF_neutral', 'YAF_fear', 'YAF_happy',\n",
              "       'YAF_pleasant_surprised', 'OAF_happy', 'YAF_pleasant_surprised',\n",
              "       'YAF_pleasant_surprised', 'OAF_fear', 'YAF_sad', 'YAF_angry',\n",
              "       'YAF_pleasant_surprised', 'YAF_disgust', 'OAF_neutral',\n",
              "       'YAF_neutral', 'OAF_pleasant_surprise', 'YAF_sad', 'OAF_disgust',\n",
              "       'OAF_disgust', 'OAF_angry', 'YAF_pleasant_surprised', 'YAF_angry',\n",
              "       'YAF_happy', 'OAF_happy', 'OAF_sad', 'OAF_fear', 'YAF_disgust',\n",
              "       'OAF_happy', 'OAF_disgust', 'OAF_neutral',\n",
              "       'YAF_pleasant_surprised', 'YAF_pleasant_surprised', 'OAF_sad',\n",
              "       'OAF_happy', 'YAF_neutral', 'OAF_fear', 'OAF_fear', 'YAF_disgust',\n",
              "       'YAF_sad', 'OAF_pleasant_surprise', 'YAF_disgust', 'OAF_disgust',\n",
              "       'OAF_sad', 'OAF_happy', 'YAF_disgust', 'YAF_fear', 'YAF_disgust',\n",
              "       'OAF_neutral', 'OAF_angry', 'YAF_neutral', 'OAF_neutral',\n",
              "       'OAF_neutral', 'OAF_happy', 'OAF_happy', 'YAF_sad', 'OAF_sad',\n",
              "       'YAF_disgust', 'OAF_disgust', 'OAF_happy', 'OAF_happy',\n",
              "       'OAF_neutral', 'YAF_angry', 'OAF_fear', 'OAF_disgust',\n",
              "       'OAF_disgust', 'YAF_fear', 'OAF_sad', 'OAF_neutral', 'OAF_sad',\n",
              "       'YAF_neutral', 'OAF_sad', 'YAF_disgust', 'OAF_fear', 'OAF_disgust',\n",
              "       'OAF_sad', 'YAF_angry', 'YAF_angry', 'YAF_sad', 'OAF_happy',\n",
              "       'YAF_neutral', 'OAF_happy', 'YAF_pleasant_surprised', 'OAF_angry',\n",
              "       'YAF_pleasant_surprised', 'YAF_neutral', 'OAF_pleasant_surprise',\n",
              "       'OAF_sad', 'OAF_angry', 'OAF_happy', 'YAF_angry',\n",
              "       'YAF_pleasant_surprised', 'OAF_neutral', 'YAF_pleasant_surprised',\n",
              "       'OAF_disgust', 'OAF_sad', 'OAF_fear', 'YAF_pleasant_surprised',\n",
              "       'OAF_fear', 'YAF_pleasant_surprised', 'OAF_neutral', 'YAF_disgust',\n",
              "       'OAF_happy', 'YAF_angry', 'YAF_pleasant_surprised', 'OAF_angry',\n",
              "       'YAF_sad', 'YAF_sad', 'OAF_sad', 'OAF_pleasant_surprise',\n",
              "       'OAF_happy', 'OAF_happy', 'OAF_disgust', 'YAF_happy', 'YAF_happy',\n",
              "       'OAF_neutral', 'OAF_happy', 'OAF_pleasant_surprise', 'OAF_happy',\n",
              "       'OAF_sad', 'YAF_neutral', 'OAF_fear', 'YAF_happy', 'OAF_disgust',\n",
              "       'OAF_neutral', 'OAF_disgust', 'OAF_sad', 'YAF_pleasant_surprised',\n",
              "       'YAF_happy', 'OAF_disgust', 'YAF_pleasant_surprised', 'YAF_happy',\n",
              "       'YAF_happy', 'YAF_neutral', 'YAF_neutral',\n",
              "       'YAF_pleasant_surprised', 'YAF_fear', 'YAF_sad', 'OAF_happy',\n",
              "       'YAF_pleasant_surprised', 'OAF_fear', 'YAF_fear', 'OAF_disgust',\n",
              "       'OAF_happy', 'OAF_angry', 'OAF_pleasant_surprise', 'YAF_happy',\n",
              "       'OAF_happy', 'YAF_pleasant_surprised', 'OAF_angry', 'OAF_disgust',\n",
              "       'OAF_fear', 'OAF_angry', 'OAF_neutral', 'YAF_pleasant_surprised',\n",
              "       'YAF_pleasant_surprised', 'OAF_neutral', 'YAF_neutral',\n",
              "       'OAF_happy', 'YAF_sad', 'YAF_happy', 'YAF_happy', 'YAF_sad',\n",
              "       'OAF_disgust', 'YAF_sad', 'YAF_pleasant_surprised', 'OAF_fear',\n",
              "       'YAF_pleasant_surprised', 'YAF_fear', 'OAF_disgust', 'YAF_sad',\n",
              "       'OAF_disgust', 'YAF_sad', 'OAF_angry', 'OAF_sad', 'OAF_sad',\n",
              "       'OAF_fear', 'YAF_pleasant_surprised', 'OAF_angry', 'OAF_neutral',\n",
              "       'OAF_happy', 'OAF_fear', 'OAF_sad', 'OAF_pleasant_surprise',\n",
              "       'OAF_neutral', 'OAF_sad', 'OAF_pleasant_surprise', 'YAF_disgust',\n",
              "       'OAF_angry', 'OAF_pleasant_surprise', 'YAF_sad', 'OAF_happy',\n",
              "       'YAF_disgust', 'OAF_fear', 'YAF_pleasant_surprised', 'YAF_happy',\n",
              "       'OAF_sad', 'OAF_happy', 'OAF_neutral', 'OAF_neutral', 'OAF_happy',\n",
              "       'OAF_happy', 'OAF_pleasant_surprise', 'YAF_neutral', 'OAF_fear',\n",
              "       'OAF_fear', 'OAF_neutral', 'OAF_neutral', 'YAF_disgust',\n",
              "       'OAF_fear', 'YAF_fear', 'OAF_pleasant_surprise', 'OAF_neutral',\n",
              "       'OAF_pleasant_surprise', 'YAF_neutral', 'OAF_happy', 'YAF_happy',\n",
              "       'OAF_disgust', 'OAF_fear', 'YAF_pleasant_surprised', 'YAF_neutral',\n",
              "       'YAF_happy', 'YAF_sad', 'OAF_sad', 'YAF_disgust', 'OAF_happy',\n",
              "       'OAF_sad', 'OAF_neutral', 'OAF_happy', 'YAF_angry', 'YAF_angry',\n",
              "       'YAF_happy', 'OAF_fear', 'OAF_pleasant_surprise',\n",
              "       'YAF_pleasant_surprised', 'OAF_neutral', 'YAF_pleasant_surprised',\n",
              "       'YAF_disgust', 'OAF_neutral', 'YAF_sad', 'YAF_happy', 'YAF_fear',\n",
              "       'YAF_neutral', 'YAF_disgust', 'OAF_happy', 'YAF_sad', 'YAF_sad',\n",
              "       'OAF_angry', 'YAF_sad', 'OAF_fear', 'OAF_disgust', 'OAF_neutral',\n",
              "       'YAF_happy', 'OAF_disgust', 'YAF_neutral', 'YAF_disgust',\n",
              "       'OAF_disgust', 'OAF_happy', 'OAF_sad', 'YAF_sad', 'OAF_happy',\n",
              "       'YAF_angry', 'YAF_sad', 'YAF_fear', 'OAF_happy', 'OAF_happy',\n",
              "       'OAF_neutral', 'OAF_disgust', 'YAF_happy', 'YAF_happy', 'OAF_fear',\n",
              "       'YAF_angry', 'YAF_angry', 'OAF_neutral', 'OAF_pleasant_surprise',\n",
              "       'YAF_disgust', 'OAF_sad', 'OAF_pleasant_surprise',\n",
              "       'OAF_pleasant_surprise', 'YAF_fear', 'YAF_disgust', 'OAF_sad',\n",
              "       'YAF_neutral', 'OAF_neutral', 'YAF_disgust',\n",
              "       'OAF_pleasant_surprise', 'YAF_happy', 'OAF_neutral', 'YAF_neutral',\n",
              "       'YAF_fear', 'YAF_fear', 'OAF_angry', 'OAF_angry', 'OAF_happy',\n",
              "       'YAF_pleasant_surprised', 'OAF_angry', 'YAF_pleasant_surprised',\n",
              "       'YAF_angry', 'YAF_angry', 'YAF_neutral', 'YAF_angry', 'YAF_fear',\n",
              "       'YAF_disgust', 'OAF_disgust', 'YAF_angry', 'OAF_fear', 'YAF_happy',\n",
              "       'YAF_sad', 'OAF_disgust', 'OAF_neutral', 'YAF_angry',\n",
              "       'YAF_disgust', 'OAF_pleasant_surprise', 'YAF_pleasant_surprised',\n",
              "       'OAF_disgust', 'YAF_sad', 'YAF_pleasant_surprised', 'YAF_angry',\n",
              "       'YAF_sad', 'YAF_angry', 'YAF_neutral', 'OAF_pleasant_surprise',\n",
              "       'OAF_disgust', 'OAF_disgust', 'OAF_pleasant_surprise',\n",
              "       'OAF_neutral', 'OAF_happy', 'YAF_fear', 'YAF_neutral',\n",
              "       'OAF_disgust', 'OAF_fear', 'YAF_happy', 'YAF_disgust', 'OAF_happy',\n",
              "       'OAF_pleasant_surprise', 'YAF_happy', 'OAF_neutral', 'OAF_sad',\n",
              "       'OAF_happy', 'OAF_disgust', 'YAF_pleasant_surprised',\n",
              "       'YAF_neutral', 'YAF_neutral', 'OAF_angry', 'YAF_angry',\n",
              "       'YAF_pleasant_surprised', 'OAF_pleasant_surprise', 'OAF_angry',\n",
              "       'OAF_disgust', 'OAF_neutral', 'YAF_neutral', 'YAF_disgust',\n",
              "       'YAF_happy', 'OAF_fear', 'OAF_pleasant_surprise', 'OAF_neutral',\n",
              "       'YAF_fear', 'YAF_happy', 'OAF_fear', 'YAF_angry',\n",
              "       'OAF_pleasant_surprise', 'OAF_neutral', 'YAF_happy', 'OAF_disgust',\n",
              "       'YAF_neutral', 'YAF_neutral', 'YAF_disgust',\n",
              "       'OAF_pleasant_surprise', 'YAF_sad', 'OAF_happy', 'YAF_disgust',\n",
              "       'YAF_fear', 'OAF_sad', 'YAF_neutral', 'YAF_fear', 'YAF_disgust',\n",
              "       'YAF_angry', 'OAF_disgust', 'OAF_happy', 'OAF_fear', 'YAF_fear',\n",
              "       'YAF_angry', 'YAF_sad', 'OAF_fear', 'YAF_happy', 'YAF_sad',\n",
              "       'YAF_neutral', 'OAF_happy', 'OAF_neutral', 'OAF_neutral',\n",
              "       'OAF_disgust', 'YAF_neutral', 'OAF_happy', 'YAF_fear',\n",
              "       'YAF_neutral', 'YAF_sad', 'OAF_neutral', 'YAF_angry', 'YAF_happy',\n",
              "       'OAF_neutral', 'OAF_happy', 'YAF_disgust', 'OAF_happy',\n",
              "       'OAF_pleasant_surprise', 'OAF_angry', 'OAF_disgust', 'YAF_angry',\n",
              "       'YAF_angry', 'OAF_angry', 'OAF_angry', 'OAF_angry', 'OAF_angry',\n",
              "       'OAF_happy', 'OAF_angry', 'YAF_disgust', 'OAF_pleasant_surprise',\n",
              "       'OAF_sad', 'OAF_disgust', 'YAF_sad', 'OAF_disgust', 'YAF_happy',\n",
              "       'YAF_happy', 'OAF_angry', 'YAF_pleasant_surprised', 'YAF_happy',\n",
              "       'OAF_disgust', 'YAF_angry', 'OAF_happy', 'OAF_neutral',\n",
              "       'YAF_pleasant_surprised', 'YAF_disgust', 'YAF_happy', 'YAF_angry',\n",
              "       'YAF_fear', 'YAF_angry', 'YAF_angry', 'YAF_disgust', 'YAF_happy',\n",
              "       'OAF_pleasant_surprise', 'YAF_happy', 'YAF_pleasant_surprised',\n",
              "       'YAF_sad', 'YAF_neutral', 'OAF_disgust', 'YAF_pleasant_surprised',\n",
              "       'YAF_disgust', 'OAF_happy', 'YAF_fear', 'YAF_fear', 'OAF_happy',\n",
              "       'OAF_neutral', 'OAF_fear', 'YAF_happy', 'YAF_neutral',\n",
              "       'YAF_neutral', 'YAF_pleasant_surprised', 'YAF_disgust',\n",
              "       'YAF_happy', 'OAF_pleasant_surprise', 'YAF_disgust', 'YAF_sad',\n",
              "       'YAF_pleasant_surprised', 'OAF_happy', 'OAF_disgust', 'OAF_sad',\n",
              "       'YAF_sad', 'OAF_angry', 'YAF_happy', 'YAF_angry', 'YAF_disgust',\n",
              "       'YAF_neutral', 'OAF_sad', 'OAF_fear', 'OAF_disgust', 'YAF_neutral',\n",
              "       'OAF_neutral', 'YAF_happy', 'YAF_neutral', 'OAF_neutral',\n",
              "       'YAF_happy', 'OAF_neutral', 'YAF_neutral', 'YAF_neutral',\n",
              "       'YAF_angry', 'YAF_happy', 'YAF_neutral', 'OAF_angry',\n",
              "       'YAF_pleasant_surprised', 'YAF_pleasant_surprised', 'OAF_sad',\n",
              "       'OAF_disgust', 'OAF_happy', 'YAF_pleasant_surprised', 'YAF_fear',\n",
              "       'OAF_happy', 'YAF_disgust', 'OAF_sad', 'YAF_sad', 'YAF_neutral',\n",
              "       'OAF_angry', 'YAF_pleasant_surprised', 'OAF_angry',\n",
              "       'OAF_pleasant_surprise', 'YAF_happy', 'OAF_pleasant_surprise',\n",
              "       'YAF_angry', 'YAF_disgust', 'YAF_happy', 'YAF_fear', 'OAF_angry',\n",
              "       'YAF_neutral', 'OAF_pleasant_surprise', 'OAF_fear', 'YAF_angry',\n",
              "       'OAF_sad', 'YAF_disgust', 'YAF_fear', 'YAF_fear', 'YAF_fear',\n",
              "       'OAF_sad', 'YAF_sad', 'YAF_pleasant_surprised',\n",
              "       'OAF_pleasant_surprise', 'OAF_angry', 'OAF_sad', 'YAF_neutral',\n",
              "       'YAF_pleasant_surprised', 'YAF_disgust', 'YAF_fear', 'OAF_happy',\n",
              "       'OAF_disgust', 'YAF_happy', 'OAF_angry', 'YAF_disgust',\n",
              "       'YAF_happy', 'OAF_happy', 'YAF_pleasant_surprised', 'OAF_neutral',\n",
              "       'OAF_angry', 'OAF_sad', 'YAF_angry', 'YAF_happy', 'OAF_fear',\n",
              "       'OAF_disgust', 'OAF_angry', 'OAF_pleasant_surprise', 'OAF_fear',\n",
              "       'OAF_sad', 'OAF_fear', 'YAF_happy', 'YAF_pleasant_surprised',\n",
              "       'YAF_pleasant_surprised', 'OAF_happy', 'OAF_angry', 'OAF_fear'],\n",
              "      dtype=object)"
            ]
          },
          "metadata": {},
          "execution_count": 62
        }
      ]
    },
    {
      "cell_type": "code",
      "source": [
        "# Menghitung akurasi antara nilai sebenarnya dan nilai prediksi\n",
        "accuracy = accuracy_score(y_test, y_pred)\n",
        "# Menampilkan nilai akurasi\n",
        "print(\"Akurasi:\", accuracy)"
      ],
      "metadata": {
        "colab": {
          "base_uri": "https://localhost:8080/"
        },
        "id": "l1h9LPv659SW",
        "outputId": "299295c1-43de-40e7-9153-f806490713b4"
      },
      "execution_count": null,
      "outputs": [
        {
          "output_type": "stream",
          "name": "stdout",
          "text": [
            "Akurasi: 0.7206405693950177\n"
          ]
        }
      ]
    },
    {
      "cell_type": "code",
      "source": [
        "dump(clf, open('knnfix.pkl', 'wb'))"
      ],
      "metadata": {
        "id": "cG45GZaO5_wb"
      },
      "execution_count": null,
      "outputs": []
    },
    {
      "cell_type": "markdown",
      "source": [
        "# **PCA**"
      ],
      "metadata": {
        "id": "fUKzmf6N7rgu"
      }
    },
    {
      "cell_type": "markdown",
      "source": [
        "\n",
        "Principal Component Analysis (PCA) adalah suatu metode dalam statistika multivariat yang digunakan untuk mengubah dataset yang kompleks menjadi bentuk yang lebih sederhana dan lebih mudah diinterpretasikan. Tujuan utama dari PCA adalah mereduksi dimensi data, sehingga kita dapat mempertahankan sebanyak mungkin informasi yang dapat dijelaskan oleh sejumlah komponen utama atau principal components.\n",
        "\n",
        "1. **Hitung Matriks Kovarian:**<br>\n",
        "\n",
        "   $ \\text{Cov}(\\mathbf{X}) = \\frac{1}{n-1} \\sum_{i=1}^{n} (\\mathbf{X}_i - \\bar{\\mathbf{X}})(\\mathbf{X}_i - \\bar{\\mathbf{X}})^T $\n",
        "\n",
        "    di mana:\n",
        "\n",
        "\n",
        "  *   $\\mathbf{X}_i \\text{ adalah vektor data poin ke-i,}$\n",
        "  *   $\\bar{\\mathbf{X}} \\text{ adalah vektor rata-rata dari semua data,}$\n",
        "  *   $n \\text{ adalah jumlah data poin.} $\n",
        "\n",
        "2. **Hitung Nilai dan Vektor Eigen:** <br>\n",
        "Menghitung nilai eigen (λ) dan vektor eigen (v) dari matriks kovarian.<br>\n",
        "\n",
        "   $ \\text{Cov}(\\mathbf{X})\\mathbf{v} = \\lambda\\mathbf{v} $\n",
        "\n",
        "3. **Pilih Principal Components:**<br> Principal components dipilih berdasarkan nilai eigen tertinggi. Misalnya, jika kita ingin mereduksi dimensi menjadi k, kita memilih k vektor eigen dengan nilai eigen tertinggi.<br>\n",
        "\n",
        "4. **Transformasi Data:** <br> Data asli (X) dapat diproyeksikan ke dalam ruang yang baru (Y) yang terdiri dari principal components yang dipilih.<br>\n",
        "\n",
        "   $ \\mathbf{Y} = \\mathbf{X} \\mathbf{V} $\n",
        "\n",
        "    di mana:\n",
        "\n",
        "*   (Y) : matriks yang berisi data yang telah diproyeksikan ke dalam ruang principal components,<br>\n",
        "*   (X) : matriks data asli,<br>\n",
        "*   (V) : matriks yang berisi vektor eigen sebagai kolom-kolomnya.<br>\n",
        "\n",
        "\n"
      ],
      "metadata": {
        "id": "WB_0TKSAFBq1"
      }
    },
    {
      "cell_type": "code",
      "source": [
        "from sklearn.decomposition import PCA as sklearnPCA\n",
        "\n",
        "# Membuat objek PCA dengan 9 komponen utama\n",
        "sklearn_pca = sklearnPCA(n_components=9)\n",
        "\n",
        "# Melakukan transformasi PCA pada data latih yang telah dinormalisasi\n",
        "X_train_pca = sklearn_pca.fit_transform(X_train_scaled)\n",
        "\n",
        "# Menampilkan tipe data dari X_train_pca\n",
        "type(X_train_pca)"
      ],
      "metadata": {
        "colab": {
          "base_uri": "https://localhost:8080/"
        },
        "id": "JqpUO5_f7AwH",
        "outputId": "46d4b012-0ec0-488c-fc4b-4d8dcfd5d6df"
      },
      "execution_count": null,
      "outputs": [
        {
          "output_type": "execute_result",
          "data": {
            "text/plain": [
              "numpy.ndarray"
            ]
          },
          "metadata": {},
          "execution_count": 65
        }
      ]
    },
    {
      "cell_type": "code",
      "source": [
        "dump(sklearn_pca, open('PCAknn9.pkl', 'wb'))"
      ],
      "metadata": {
        "id": "3-Ga81rh_rB7"
      },
      "execution_count": null,
      "outputs": []
    },
    {
      "cell_type": "code",
      "source": [
        "import pickle\n",
        "with open('PCAknn9.pkl', 'rb') as pca:\n",
        "   loadpca= pickle.load(pca)"
      ],
      "metadata": {
        "id": "-3Uvo_W67HOj"
      },
      "execution_count": null,
      "outputs": []
    },
    {
      "cell_type": "code",
      "source": [
        "# Melakukan transformasi PCA pada data uji yang telah dinormalisasi menggunakan model PCA yang telah dimuat\n",
        "X_test_pca = loadpca.transform(X_test_scaled)\n",
        "\n",
        "# Menampilkan bentuk (shape) dari X_test_pca\n",
        "X_test_pca.shape\n"
      ],
      "metadata": {
        "colab": {
          "base_uri": "https://localhost:8080/"
        },
        "id": "TsDM3YGa7JxP",
        "outputId": "dff8ec0a-a2e0-4213-f939-3b5cb3bcd336"
      },
      "execution_count": null,
      "outputs": [
        {
          "output_type": "execute_result",
          "data": {
            "text/plain": [
              "(562, 9)"
            ]
          },
          "metadata": {},
          "execution_count": 68
        }
      ]
    },
    {
      "cell_type": "code",
      "source": [
        "clfr = KNeighborsClassifier(n_neighbors= 13, metric = \"euclidean\")\n",
        "# Melatih model menggunakan data latih yang telah mengalami reduksi dimensi PCA\n",
        "clfr.fit(X_train_pca, y_train)"
      ],
      "metadata": {
        "colab": {
          "base_uri": "https://localhost:8080/",
          "height": 74
        },
        "id": "AhRlfdk17Lk4",
        "outputId": "142397ad-f46e-4dad-cbf8-33ac5374d8e7"
      },
      "execution_count": null,
      "outputs": [
        {
          "output_type": "execute_result",
          "data": {
            "text/plain": [
              "KNeighborsClassifier(metric='euclidean', n_neighbors=13)"
            ],
            "text/html": [
              "<style>#sk-container-id-5 {color: black;background-color: white;}#sk-container-id-5 pre{padding: 0;}#sk-container-id-5 div.sk-toggleable {background-color: white;}#sk-container-id-5 label.sk-toggleable__label {cursor: pointer;display: block;width: 100%;margin-bottom: 0;padding: 0.3em;box-sizing: border-box;text-align: center;}#sk-container-id-5 label.sk-toggleable__label-arrow:before {content: \"▸\";float: left;margin-right: 0.25em;color: #696969;}#sk-container-id-5 label.sk-toggleable__label-arrow:hover:before {color: black;}#sk-container-id-5 div.sk-estimator:hover label.sk-toggleable__label-arrow:before {color: black;}#sk-container-id-5 div.sk-toggleable__content {max-height: 0;max-width: 0;overflow: hidden;text-align: left;background-color: #f0f8ff;}#sk-container-id-5 div.sk-toggleable__content pre {margin: 0.2em;color: black;border-radius: 0.25em;background-color: #f0f8ff;}#sk-container-id-5 input.sk-toggleable__control:checked~div.sk-toggleable__content {max-height: 200px;max-width: 100%;overflow: auto;}#sk-container-id-5 input.sk-toggleable__control:checked~label.sk-toggleable__label-arrow:before {content: \"▾\";}#sk-container-id-5 div.sk-estimator input.sk-toggleable__control:checked~label.sk-toggleable__label {background-color: #d4ebff;}#sk-container-id-5 div.sk-label input.sk-toggleable__control:checked~label.sk-toggleable__label {background-color: #d4ebff;}#sk-container-id-5 input.sk-hidden--visually {border: 0;clip: rect(1px 1px 1px 1px);clip: rect(1px, 1px, 1px, 1px);height: 1px;margin: -1px;overflow: hidden;padding: 0;position: absolute;width: 1px;}#sk-container-id-5 div.sk-estimator {font-family: monospace;background-color: #f0f8ff;border: 1px dotted black;border-radius: 0.25em;box-sizing: border-box;margin-bottom: 0.5em;}#sk-container-id-5 div.sk-estimator:hover {background-color: #d4ebff;}#sk-container-id-5 div.sk-parallel-item::after {content: \"\";width: 100%;border-bottom: 1px solid gray;flex-grow: 1;}#sk-container-id-5 div.sk-label:hover label.sk-toggleable__label {background-color: #d4ebff;}#sk-container-id-5 div.sk-serial::before {content: \"\";position: absolute;border-left: 1px solid gray;box-sizing: border-box;top: 0;bottom: 0;left: 50%;z-index: 0;}#sk-container-id-5 div.sk-serial {display: flex;flex-direction: column;align-items: center;background-color: white;padding-right: 0.2em;padding-left: 0.2em;position: relative;}#sk-container-id-5 div.sk-item {position: relative;z-index: 1;}#sk-container-id-5 div.sk-parallel {display: flex;align-items: stretch;justify-content: center;background-color: white;position: relative;}#sk-container-id-5 div.sk-item::before, #sk-container-id-5 div.sk-parallel-item::before {content: \"\";position: absolute;border-left: 1px solid gray;box-sizing: border-box;top: 0;bottom: 0;left: 50%;z-index: -1;}#sk-container-id-5 div.sk-parallel-item {display: flex;flex-direction: column;z-index: 1;position: relative;background-color: white;}#sk-container-id-5 div.sk-parallel-item:first-child::after {align-self: flex-end;width: 50%;}#sk-container-id-5 div.sk-parallel-item:last-child::after {align-self: flex-start;width: 50%;}#sk-container-id-5 div.sk-parallel-item:only-child::after {width: 0;}#sk-container-id-5 div.sk-dashed-wrapped {border: 1px dashed gray;margin: 0 0.4em 0.5em 0.4em;box-sizing: border-box;padding-bottom: 0.4em;background-color: white;}#sk-container-id-5 div.sk-label label {font-family: monospace;font-weight: bold;display: inline-block;line-height: 1.2em;}#sk-container-id-5 div.sk-label-container {text-align: center;}#sk-container-id-5 div.sk-container {/* jupyter's `normalize.less` sets `[hidden] { display: none; }` but bootstrap.min.css set `[hidden] { display: none !important; }` so we also need the `!important` here to be able to override the default hidden behavior on the sphinx rendered scikit-learn.org. See: https://github.com/scikit-learn/scikit-learn/issues/21755 */display: inline-block !important;position: relative;}#sk-container-id-5 div.sk-text-repr-fallback {display: none;}</style><div id=\"sk-container-id-5\" class=\"sk-top-container\"><div class=\"sk-text-repr-fallback\"><pre>KNeighborsClassifier(metric=&#x27;euclidean&#x27;, n_neighbors=13)</pre><b>In a Jupyter environment, please rerun this cell to show the HTML representation or trust the notebook. <br />On GitHub, the HTML representation is unable to render, please try loading this page with nbviewer.org.</b></div><div class=\"sk-container\" hidden><div class=\"sk-item\"><div class=\"sk-estimator sk-toggleable\"><input class=\"sk-toggleable__control sk-hidden--visually\" id=\"sk-estimator-id-5\" type=\"checkbox\" checked><label for=\"sk-estimator-id-5\" class=\"sk-toggleable__label sk-toggleable__label-arrow\">KNeighborsClassifier</label><div class=\"sk-toggleable__content\"><pre>KNeighborsClassifier(metric=&#x27;euclidean&#x27;, n_neighbors=13)</pre></div></div></div></div></div>"
            ]
          },
          "metadata": {},
          "execution_count": 69
        }
      ]
    },
    {
      "cell_type": "code",
      "source": [
        "# Melakukan prediksi pada data uji yang telah mengalami reduksi dimensi PCA menggunakan model RandomForestClassifier\n",
        "y_prediksi = clfr.predict(X_test_pca)\n",
        "\n",
        "# Menampilkan hasil prediksi\n",
        "y_prediksi\n"
      ],
      "metadata": {
        "colab": {
          "base_uri": "https://localhost:8080/"
        },
        "id": "Dgq5ZonY7N0S",
        "outputId": "daa62ec9-0970-4483-b7a6-fc3e19e5b951"
      },
      "execution_count": null,
      "outputs": [
        {
          "output_type": "execute_result",
          "data": {
            "text/plain": [
              "array(['YAF_fear', 'YAF_pleasant_surprised', 'YAF_fear', 'YAF_angry',\n",
              "       'YAF_angry', 'OAF_disgust', 'OAF_disgust', 'YAF_neutral',\n",
              "       'OAF_disgust', 'OAF_neutral', 'YAF_fear', 'YAF_happy',\n",
              "       'YAF_pleasant_surprised', 'OAF_happy', 'YAF_pleasant_surprised',\n",
              "       'YAF_pleasant_surprised', 'OAF_fear', 'YAF_sad', 'YAF_angry',\n",
              "       'YAF_pleasant_surprised', 'YAF_disgust', 'OAF_neutral',\n",
              "       'YAF_neutral', 'OAF_pleasant_surprise', 'YAF_sad', 'OAF_disgust',\n",
              "       'OAF_disgust', 'OAF_angry', 'YAF_pleasant_surprised', 'YAF_angry',\n",
              "       'YAF_happy', 'OAF_happy', 'OAF_sad', 'OAF_fear', 'YAF_disgust',\n",
              "       'OAF_happy', 'OAF_disgust', 'OAF_neutral',\n",
              "       'YAF_pleasant_surprised', 'YAF_pleasant_surprised', 'OAF_sad',\n",
              "       'OAF_happy', 'YAF_neutral', 'OAF_fear', 'OAF_fear', 'YAF_disgust',\n",
              "       'YAF_sad', 'OAF_pleasant_surprise', 'YAF_disgust', 'OAF_disgust',\n",
              "       'OAF_sad', 'OAF_happy', 'YAF_disgust', 'YAF_fear', 'YAF_disgust',\n",
              "       'OAF_neutral', 'OAF_angry', 'YAF_neutral', 'OAF_neutral',\n",
              "       'OAF_neutral', 'OAF_disgust', 'OAF_happy', 'YAF_sad', 'OAF_sad',\n",
              "       'YAF_disgust', 'OAF_disgust', 'OAF_happy', 'OAF_happy',\n",
              "       'OAF_neutral', 'YAF_angry', 'OAF_fear', 'OAF_disgust',\n",
              "       'OAF_disgust', 'YAF_fear', 'OAF_sad', 'OAF_neutral', 'OAF_sad',\n",
              "       'YAF_neutral', 'OAF_sad', 'YAF_disgust', 'OAF_fear', 'OAF_disgust',\n",
              "       'OAF_sad', 'YAF_angry', 'YAF_angry', 'YAF_sad', 'OAF_happy',\n",
              "       'YAF_neutral', 'OAF_happy', 'YAF_pleasant_surprised', 'OAF_angry',\n",
              "       'YAF_pleasant_surprised', 'YAF_neutral', 'OAF_pleasant_surprise',\n",
              "       'OAF_sad', 'OAF_angry', 'OAF_happy', 'YAF_angry',\n",
              "       'YAF_pleasant_surprised', 'OAF_neutral', 'YAF_pleasant_surprised',\n",
              "       'OAF_disgust', 'OAF_sad', 'OAF_fear', 'YAF_pleasant_surprised',\n",
              "       'OAF_fear', 'YAF_pleasant_surprised', 'OAF_neutral', 'YAF_disgust',\n",
              "       'OAF_happy', 'YAF_angry', 'YAF_pleasant_surprised', 'OAF_angry',\n",
              "       'YAF_sad', 'YAF_sad', 'OAF_sad', 'OAF_pleasant_surprise',\n",
              "       'OAF_happy', 'OAF_happy', 'OAF_disgust', 'YAF_happy', 'YAF_happy',\n",
              "       'OAF_neutral', 'OAF_happy', 'OAF_pleasant_surprise', 'OAF_happy',\n",
              "       'OAF_sad', 'YAF_neutral', 'OAF_fear', 'YAF_happy', 'OAF_disgust',\n",
              "       'OAF_neutral', 'OAF_disgust', 'OAF_sad', 'YAF_pleasant_surprised',\n",
              "       'YAF_happy', 'OAF_disgust', 'YAF_pleasant_surprised', 'YAF_happy',\n",
              "       'YAF_happy', 'YAF_neutral', 'YAF_neutral',\n",
              "       'YAF_pleasant_surprised', 'YAF_fear', 'YAF_sad', 'OAF_happy',\n",
              "       'YAF_pleasant_surprised', 'OAF_fear', 'YAF_fear', 'OAF_disgust',\n",
              "       'OAF_happy', 'OAF_angry', 'OAF_pleasant_surprise', 'YAF_happy',\n",
              "       'OAF_happy', 'YAF_pleasant_surprised', 'OAF_angry', 'OAF_disgust',\n",
              "       'OAF_fear', 'OAF_angry', 'OAF_neutral', 'YAF_pleasant_surprised',\n",
              "       'YAF_pleasant_surprised', 'OAF_neutral', 'YAF_neutral',\n",
              "       'OAF_happy', 'YAF_sad', 'YAF_happy', 'YAF_happy', 'YAF_sad',\n",
              "       'OAF_disgust', 'YAF_sad', 'YAF_pleasant_surprised', 'OAF_fear',\n",
              "       'YAF_pleasant_surprised', 'YAF_fear', 'OAF_disgust', 'YAF_sad',\n",
              "       'OAF_happy', 'YAF_sad', 'OAF_angry', 'OAF_sad', 'OAF_sad',\n",
              "       'OAF_fear', 'YAF_pleasant_surprised', 'OAF_angry', 'OAF_neutral',\n",
              "       'OAF_happy', 'OAF_fear', 'OAF_sad', 'OAF_pleasant_surprise',\n",
              "       'OAF_neutral', 'OAF_sad', 'OAF_pleasant_surprise', 'YAF_disgust',\n",
              "       'OAF_angry', 'OAF_pleasant_surprise', 'YAF_sad', 'OAF_happy',\n",
              "       'YAF_disgust', 'OAF_fear', 'YAF_pleasant_surprised', 'YAF_happy',\n",
              "       'OAF_sad', 'OAF_happy', 'OAF_neutral', 'OAF_neutral', 'OAF_happy',\n",
              "       'OAF_happy', 'OAF_pleasant_surprise', 'YAF_neutral', 'OAF_fear',\n",
              "       'OAF_fear', 'OAF_neutral', 'OAF_neutral', 'YAF_disgust',\n",
              "       'OAF_fear', 'YAF_fear', 'OAF_pleasant_surprise', 'OAF_neutral',\n",
              "       'OAF_pleasant_surprise', 'YAF_neutral', 'OAF_happy', 'YAF_happy',\n",
              "       'OAF_disgust', 'OAF_fear', 'YAF_pleasant_surprised', 'YAF_neutral',\n",
              "       'YAF_happy', 'YAF_sad', 'OAF_sad', 'YAF_disgust', 'OAF_happy',\n",
              "       'OAF_sad', 'OAF_neutral', 'OAF_happy', 'YAF_angry', 'YAF_angry',\n",
              "       'YAF_happy', 'OAF_fear', 'OAF_pleasant_surprise',\n",
              "       'YAF_pleasant_surprised', 'OAF_neutral', 'YAF_pleasant_surprised',\n",
              "       'YAF_disgust', 'OAF_neutral', 'YAF_sad', 'YAF_happy', 'YAF_fear',\n",
              "       'YAF_neutral', 'YAF_disgust', 'OAF_happy', 'YAF_sad', 'YAF_sad',\n",
              "       'OAF_angry', 'YAF_sad', 'OAF_fear', 'OAF_disgust', 'OAF_neutral',\n",
              "       'YAF_happy', 'OAF_disgust', 'YAF_neutral', 'YAF_disgust',\n",
              "       'OAF_disgust', 'OAF_happy', 'OAF_sad', 'YAF_sad', 'OAF_happy',\n",
              "       'YAF_angry', 'YAF_sad', 'YAF_fear', 'OAF_happy', 'OAF_happy',\n",
              "       'OAF_neutral', 'OAF_disgust', 'YAF_happy', 'YAF_happy', 'OAF_fear',\n",
              "       'YAF_angry', 'YAF_angry', 'OAF_neutral', 'OAF_pleasant_surprise',\n",
              "       'YAF_disgust', 'OAF_sad', 'OAF_pleasant_surprise',\n",
              "       'OAF_pleasant_surprise', 'YAF_fear', 'YAF_disgust', 'OAF_sad',\n",
              "       'YAF_neutral', 'OAF_neutral', 'YAF_disgust',\n",
              "       'OAF_pleasant_surprise', 'YAF_happy', 'OAF_neutral', 'YAF_neutral',\n",
              "       'YAF_fear', 'YAF_fear', 'OAF_angry', 'OAF_angry', 'OAF_happy',\n",
              "       'YAF_pleasant_surprised', 'OAF_angry', 'YAF_pleasant_surprised',\n",
              "       'YAF_angry', 'YAF_angry', 'YAF_neutral', 'YAF_angry', 'YAF_fear',\n",
              "       'YAF_disgust', 'OAF_disgust', 'YAF_angry', 'OAF_fear', 'YAF_happy',\n",
              "       'YAF_sad', 'OAF_disgust', 'OAF_neutral', 'YAF_angry',\n",
              "       'YAF_disgust', 'OAF_pleasant_surprise', 'YAF_pleasant_surprised',\n",
              "       'OAF_disgust', 'YAF_sad', 'YAF_pleasant_surprised', 'YAF_angry',\n",
              "       'YAF_sad', 'YAF_angry', 'YAF_neutral', 'OAF_pleasant_surprise',\n",
              "       'OAF_disgust', 'OAF_disgust', 'OAF_pleasant_surprise',\n",
              "       'OAF_neutral', 'OAF_happy', 'YAF_fear', 'YAF_neutral',\n",
              "       'OAF_disgust', 'OAF_fear', 'YAF_happy', 'YAF_disgust', 'OAF_happy',\n",
              "       'OAF_pleasant_surprise', 'YAF_happy', 'OAF_neutral', 'OAF_sad',\n",
              "       'OAF_happy', 'OAF_disgust', 'YAF_pleasant_surprised',\n",
              "       'YAF_neutral', 'YAF_neutral', 'OAF_angry', 'YAF_angry',\n",
              "       'YAF_pleasant_surprised', 'OAF_pleasant_surprise', 'OAF_angry',\n",
              "       'OAF_disgust', 'OAF_neutral', 'YAF_neutral', 'YAF_disgust',\n",
              "       'YAF_happy', 'OAF_fear', 'OAF_pleasant_surprise', 'OAF_neutral',\n",
              "       'YAF_fear', 'YAF_happy', 'OAF_fear', 'YAF_angry',\n",
              "       'OAF_pleasant_surprise', 'OAF_neutral', 'YAF_happy', 'OAF_disgust',\n",
              "       'YAF_neutral', 'YAF_neutral', 'YAF_disgust',\n",
              "       'OAF_pleasant_surprise', 'YAF_sad', 'OAF_happy', 'YAF_disgust',\n",
              "       'YAF_fear', 'OAF_sad', 'YAF_neutral', 'YAF_fear', 'YAF_disgust',\n",
              "       'YAF_angry', 'OAF_disgust', 'OAF_happy', 'OAF_fear', 'YAF_fear',\n",
              "       'YAF_angry', 'YAF_sad', 'OAF_fear', 'YAF_happy', 'YAF_sad',\n",
              "       'YAF_neutral', 'OAF_happy', 'OAF_neutral', 'OAF_neutral',\n",
              "       'OAF_disgust', 'YAF_neutral', 'OAF_happy', 'YAF_fear',\n",
              "       'YAF_neutral', 'YAF_sad', 'OAF_neutral', 'YAF_angry', 'YAF_happy',\n",
              "       'OAF_neutral', 'OAF_happy', 'YAF_disgust', 'OAF_happy',\n",
              "       'OAF_pleasant_surprise', 'OAF_angry', 'OAF_disgust', 'YAF_angry',\n",
              "       'YAF_angry', 'OAF_angry', 'OAF_angry', 'OAF_angry', 'OAF_angry',\n",
              "       'OAF_happy', 'OAF_angry', 'YAF_disgust', 'OAF_pleasant_surprise',\n",
              "       'OAF_sad', 'OAF_disgust', 'YAF_sad', 'OAF_disgust', 'YAF_happy',\n",
              "       'YAF_happy', 'OAF_angry', 'YAF_pleasant_surprised', 'YAF_happy',\n",
              "       'OAF_disgust', 'YAF_angry', 'OAF_happy', 'OAF_neutral',\n",
              "       'YAF_pleasant_surprised', 'YAF_disgust', 'YAF_happy', 'YAF_angry',\n",
              "       'YAF_fear', 'YAF_angry', 'YAF_angry', 'YAF_disgust', 'YAF_happy',\n",
              "       'OAF_pleasant_surprise', 'YAF_happy', 'YAF_pleasant_surprised',\n",
              "       'YAF_sad', 'YAF_neutral', 'OAF_disgust', 'YAF_fear', 'YAF_disgust',\n",
              "       'OAF_happy', 'YAF_fear', 'YAF_fear', 'OAF_happy', 'OAF_neutral',\n",
              "       'OAF_fear', 'YAF_happy', 'YAF_neutral', 'YAF_neutral',\n",
              "       'YAF_pleasant_surprised', 'YAF_disgust', 'YAF_happy',\n",
              "       'OAF_pleasant_surprise', 'YAF_disgust', 'YAF_sad',\n",
              "       'YAF_pleasant_surprised', 'OAF_happy', 'OAF_disgust', 'OAF_sad',\n",
              "       'YAF_sad', 'OAF_angry', 'YAF_happy', 'YAF_angry', 'YAF_disgust',\n",
              "       'YAF_neutral', 'OAF_sad', 'OAF_fear', 'OAF_disgust', 'YAF_neutral',\n",
              "       'OAF_neutral', 'YAF_happy', 'YAF_neutral', 'OAF_neutral',\n",
              "       'YAF_happy', 'OAF_neutral', 'YAF_neutral', 'YAF_neutral',\n",
              "       'YAF_angry', 'YAF_happy', 'YAF_neutral', 'OAF_angry',\n",
              "       'YAF_pleasant_surprised', 'YAF_pleasant_surprised', 'OAF_sad',\n",
              "       'OAF_disgust', 'OAF_happy', 'YAF_pleasant_surprised', 'YAF_fear',\n",
              "       'OAF_happy', 'YAF_disgust', 'OAF_sad', 'YAF_sad', 'YAF_neutral',\n",
              "       'OAF_angry', 'YAF_pleasant_surprised', 'OAF_angry',\n",
              "       'OAF_pleasant_surprise', 'YAF_happy', 'OAF_pleasant_surprise',\n",
              "       'YAF_angry', 'YAF_disgust', 'YAF_happy', 'YAF_fear', 'OAF_angry',\n",
              "       'YAF_neutral', 'OAF_pleasant_surprise', 'OAF_fear', 'YAF_angry',\n",
              "       'OAF_sad', 'YAF_disgust', 'YAF_fear', 'YAF_fear', 'YAF_fear',\n",
              "       'OAF_sad', 'YAF_sad', 'YAF_pleasant_surprised',\n",
              "       'OAF_pleasant_surprise', 'OAF_angry', 'OAF_sad', 'YAF_neutral',\n",
              "       'YAF_pleasant_surprised', 'YAF_disgust', 'YAF_fear', 'OAF_happy',\n",
              "       'OAF_disgust', 'YAF_happy', 'OAF_angry', 'YAF_disgust',\n",
              "       'YAF_happy', 'OAF_happy', 'YAF_pleasant_surprised', 'OAF_neutral',\n",
              "       'OAF_angry', 'OAF_sad', 'YAF_angry', 'YAF_happy', 'OAF_fear',\n",
              "       'OAF_disgust', 'OAF_angry', 'OAF_pleasant_surprise', 'OAF_fear',\n",
              "       'OAF_sad', 'OAF_fear', 'YAF_happy', 'YAF_pleasant_surprised',\n",
              "       'YAF_pleasant_surprised', 'OAF_happy', 'OAF_angry', 'OAF_fear'],\n",
              "      dtype=object)"
            ]
          },
          "metadata": {},
          "execution_count": 70
        }
      ]
    },
    {
      "cell_type": "code",
      "source": [
        "acc_pca= accuracy_score(y_test,y_prediksi)\n",
        "print(\"Akurasi:\",acc_pca)"
      ],
      "metadata": {
        "colab": {
          "base_uri": "https://localhost:8080/"
        },
        "id": "5msbfHjF7Tgv",
        "outputId": "36fc26b7-a0cc-4907-e34f-613bbdaa2d86"
      },
      "execution_count": null,
      "outputs": [
        {
          "output_type": "stream",
          "name": "stdout",
          "text": [
            "Akurasi: 0.7206405693950177\n"
          ]
        }
      ]
    },
    {
      "cell_type": "code",
      "source": [
        "dump(clfr, open('knnpca9fix.pkl', 'wb'))"
      ],
      "metadata": {
        "id": "b5dQY6Fb-mhI"
      },
      "execution_count": null,
      "outputs": []
    },
    {
      "cell_type": "markdown",
      "source": [
        "# **APLIKASI STREAMLIT**"
      ],
      "metadata": {
        "id": "V_La57JIoFK4"
      }
    },
    {
      "cell_type": "markdown",
      "source": [
        "https://luluatulmaknunahutspsd.streamlit.app/"
      ],
      "metadata": {
        "id": "tneQ0ey2oJMq"
      }
    }
  ]
}